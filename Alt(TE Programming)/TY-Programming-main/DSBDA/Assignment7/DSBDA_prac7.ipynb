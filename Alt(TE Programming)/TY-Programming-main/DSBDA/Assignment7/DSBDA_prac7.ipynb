{
  "nbformat": 4,
  "nbformat_minor": 0,
  "metadata": {
    "colab": {
      "provenance": [],
      "authorship_tag": "ABX9TyNRYlPcMp+ZVd37dy3Z9pzf"
    },
    "kernelspec": {
      "name": "python3",
      "display_name": "Python 3"
    },
    "language_info": {
      "name": "python"
    }
  },
  "cells": [
    {
      "cell_type": "markdown",
      "source": [
        "**Tokenization** is the process of breaking down a text into individual words or tokens. It helps in preparing the text data for\n",
        "further analysis.\n",
        "\n",
        "**POS tagging** assigns part-of-speech tags to each word in a text. It is useful for understanding the grammatical structure and\n",
        "meaning of the text.\n",
        "\n",
        "**Stop words** are common words that often occur in a text but do not carry much significance. Removing stop words can help\n",
        "reduce noise in the text data.\n",
        "\n",
        "**Stemming** is the process of reducing words to their base or root form. It helps in reducing the dimensionality of the text\n",
        "data by grouping words with the same root. Reduces the words to their base or root form using the Porter stemming algorithm.\n",
        "\n",
        "**Lemmatization** is similar to stemming but aims to reduce words to their dictionary or base form, called a lemma. It considers\n",
        "the context and meaning of words, resulting in more accurate base forms.\n",
        "Reduces the words to their dictionary or base form using the WordNet lemmatizer.\n",
        "\n",
        "**Term Frequency** (TF) calculates the frequency of each word in a document. It represents how often a word appears in the\n",
        "document.\n",
        "\n",
        "**Inverse Document Frequency** (IDF) measures the importance of a word in a collection of documents. It penalizes common words\n",
        "and gives more weight to rare words."
      ],
      "metadata": {
        "id": "ScFSzRRugK3I"
      }
    },
    {
      "cell_type": "code",
      "execution_count": null,
      "metadata": {
        "colab": {
          "base_uri": "https://localhost:8080/"
        },
        "id": "XQa1OarN0Yn6",
        "outputId": "3dfc6935-c643-4151-b638-2c9c7e82f691"
      },
      "outputs": [
        {
          "output_type": "stream",
          "name": "stderr",
          "text": [
            "[nltk_data] Downloading package punkt to /root/nltk_data...\n",
            "[nltk_data]   Unzipping tokenizers/punkt.zip.\n"
          ]
        },
        {
          "output_type": "execute_result",
          "data": {
            "text/plain": [
              "True"
            ]
          },
          "metadata": {},
          "execution_count": 7
        }
      ],
      "source": [
        "import nltk\n",
        "nltk.download('punkt')\n"
      ]
    },
    {
      "cell_type": "code",
      "source": [
        "from nltk.tokenize import sent_tokenize\n",
        "\n",
        "text = \"\"\" Django is a python based web application framework that is free and open source. A framework is simply a collection of module\n",
        "        that facilitate development.Rapid Development and pragmatic design are key benefit of django.\n",
        "        Django is python based programming framework. It's python coding tools that adds functionality and speed up the process. \"\"\"\n",
        "\n",
        "tokenized_text=sent_tokenize(text)\n",
        "print(tokenized_text)"
      ],
      "metadata": {
        "colab": {
          "base_uri": "https://localhost:8080/"
        },
        "id": "atdz70Br0epT",
        "outputId": "db73a7cd-acd3-4c6b-bd37-dc196130336c"
      },
      "execution_count": null,
      "outputs": [
        {
          "output_type": "stream",
          "name": "stdout",
          "text": [
            "[' Django is a python based web application framework that is free and open source.', 'A framework is simply a collection of module\\n        that facilitate development.Rapid Development and pragmatic design are key benefit of django.', 'Django is python based programming framework.', \"It's python coding tools that adds functionality and speed up the process.\"]\n"
          ]
        }
      ]
    },
    {
      "cell_type": "markdown",
      "source": [
        "**Tokenisation**"
      ],
      "metadata": {
        "id": "CGzg2QSp3ZVn"
      }
    },
    {
      "cell_type": "code",
      "source": [
        "from nltk.tokenize import word_tokenize    #tokenization separate a piece of text into smaller unit called token\n",
        "tokenized_word = word_tokenize(text)\n",
        "print(tokenized_word)"
      ],
      "metadata": {
        "colab": {
          "base_uri": "https://localhost:8080/"
        },
        "id": "hr9bqfa60erq",
        "outputId": "4b037c01-8bac-472a-d56d-0d8c385bd4e5"
      },
      "execution_count": null,
      "outputs": [
        {
          "output_type": "stream",
          "name": "stdout",
          "text": [
            "['Django', 'is', 'a', 'python', 'based', 'web', 'application', 'framework', 'that', 'is', 'free', 'and', 'open', 'source', '.', 'A', 'framework', 'is', 'simply', 'a', 'collection', 'of', 'module', 'that', 'facilitate', 'development.Rapid', 'Development', 'and', 'pragmatic', 'design', 'are', 'key', 'benefit', 'of', 'django', '.', 'Django', 'is', 'python', 'based', 'programming', 'framework', '.', 'It', \"'s\", 'python', 'coding', 'tools', 'that', 'adds', 'functionality', 'and', 'speed', 'up', 'the', 'process', '.']\n"
          ]
        }
      ]
    },
    {
      "cell_type": "markdown",
      "source": [
        "**Frequency Distribution**"
      ],
      "metadata": {
        "id": "Nhoh_lO03sgG"
      }
    },
    {
      "cell_type": "code",
      "source": [
        "from nltk.probability import FreqDist\n",
        "fdist = FreqDist(tokenized_word)\n",
        "print(fdist)"
      ],
      "metadata": {
        "colab": {
          "base_uri": "https://localhost:8080/"
        },
        "id": "hudNmhpc0euD",
        "outputId": "653ff678-76e8-4ad3-c21a-daf1248179c7"
      },
      "execution_count": null,
      "outputs": [
        {
          "output_type": "stream",
          "name": "stdout",
          "text": [
            "<FreqDist with 39 samples and 57 outcomes>\n"
          ]
        }
      ]
    },
    {
      "cell_type": "code",
      "source": [
        "fdist.most_common()"
      ],
      "metadata": {
        "colab": {
          "base_uri": "https://localhost:8080/"
        },
        "id": "zB8aNUrY0ewc",
        "outputId": "7daca9e2-7428-457a-95a1-d7dbd83df635"
      },
      "execution_count": null,
      "outputs": [
        {
          "output_type": "execute_result",
          "data": {
            "text/plain": [
              "[('is', 4),\n",
              " ('.', 4),\n",
              " ('python', 3),\n",
              " ('framework', 3),\n",
              " ('that', 3),\n",
              " ('and', 3),\n",
              " ('Django', 2),\n",
              " ('a', 2),\n",
              " ('based', 2),\n",
              " ('of', 2),\n",
              " ('web', 1),\n",
              " ('application', 1),\n",
              " ('free', 1),\n",
              " ('open', 1),\n",
              " ('source', 1),\n",
              " ('A', 1),\n",
              " ('simply', 1),\n",
              " ('collection', 1),\n",
              " ('module', 1),\n",
              " ('facilitate', 1),\n",
              " ('development.Rapid', 1),\n",
              " ('Development', 1),\n",
              " ('pragmatic', 1),\n",
              " ('design', 1),\n",
              " ('are', 1),\n",
              " ('key', 1),\n",
              " ('benefit', 1),\n",
              " ('django', 1),\n",
              " ('programming', 1),\n",
              " ('It', 1),\n",
              " (\"'s\", 1),\n",
              " ('coding', 1),\n",
              " ('tools', 1),\n",
              " ('adds', 1),\n",
              " ('functionality', 1),\n",
              " ('speed', 1),\n",
              " ('up', 1),\n",
              " ('the', 1),\n",
              " ('process', 1)]"
            ]
          },
          "metadata": {},
          "execution_count": 13
        }
      ]
    },
    {
      "cell_type": "code",
      "source": [
        "fdist.most_common(2)"
      ],
      "metadata": {
        "colab": {
          "base_uri": "https://localhost:8080/"
        },
        "id": "5zACepOG0eyl",
        "outputId": "9a44ab91-4019-45c3-fe44-fc00d383658d"
      },
      "execution_count": null,
      "outputs": [
        {
          "output_type": "execute_result",
          "data": {
            "text/plain": [
              "[('is', 4), ('.', 4)]"
            ]
          },
          "metadata": {},
          "execution_count": 14
        }
      ]
    },
    {
      "cell_type": "markdown",
      "source": [
        "**StopWord**"
      ],
      "metadata": {
        "id": "mCwzNRNh4PI6"
      }
    },
    {
      "cell_type": "code",
      "source": [
        "import nltk\n",
        "nltk.download('stopwords')                 #remove word like the, a, an and so on"
      ],
      "metadata": {
        "colab": {
          "base_uri": "https://localhost:8080/"
        },
        "id": "rX4J0Oz64K44",
        "outputId": "5e71818e-e157-4a96-dc91-f2a2ec732b48"
      },
      "execution_count": null,
      "outputs": [
        {
          "output_type": "stream",
          "name": "stderr",
          "text": [
            "[nltk_data] Downloading package stopwords to /root/nltk_data...\n",
            "[nltk_data]   Unzipping corpora/stopwords.zip.\n"
          ]
        },
        {
          "output_type": "execute_result",
          "data": {
            "text/plain": [
              "True"
            ]
          },
          "metadata": {},
          "execution_count": 16
        }
      ]
    },
    {
      "cell_type": "code",
      "source": [
        "from nltk.corpus import stopwords\n",
        "stop_word = set(stopwords.words(\"english\"))"
      ],
      "metadata": {
        "id": "wfqiFrkD4K7J"
      },
      "execution_count": null,
      "outputs": []
    },
    {
      "cell_type": "code",
      "source": [
        "print(stop_word)"
      ],
      "metadata": {
        "colab": {
          "base_uri": "https://localhost:8080/"
        },
        "id": "tY3CBNfB4K-q",
        "outputId": "5f742bd3-a30a-4c62-8adb-04ca903b2073"
      },
      "execution_count": null,
      "outputs": [
        {
          "output_type": "stream",
          "name": "stdout",
          "text": [
            "{'shan', 'its', 'that', 'i', \"you've\", \"doesn't\", 'while', 'have', 'your', \"didn't\", 'why', \"it's\", 'yourself', 'these', 'how', 'am', 'his', 're', \"you're\", 'up', 'those', 'll', 'it', 've', \"hadn't\", 'hers', 'needn', 'on', 'all', 'few', 'weren', 'this', 'each', \"haven't\", 'only', 'nor', 't', 'out', 'didn', 'through', 'what', 'over', 'off', 'ain', 'being', 'doing', 'under', 'as', 'against', \"mustn't\", 'be', 'until', 'mustn', 'o', 'their', 'because', 'then', 'you', 'theirs', \"shouldn't\", 'from', 'down', 'very', 'wouldn', 'no', 'above', 'now', 'at', 'ourselves', 'by', 'but', 'between', 'the', 'don', \"aren't\", 'does', 'm', 'he', \"don't\", 'shouldn', 'should', 'can', 'or', \"you'll\", 'whom', 'hasn', 'do', \"isn't\", 'd', 'both', 'themselves', 'was', 'had', 'once', 'into', 'wasn', 'just', \"that'll\", 'not', 'too', \"mightn't\", \"won't\", \"shan't\", 'most', 'she', 'haven', 'myself', 'further', \"she's\", 'some', 'other', 'y', 'my', \"weren't\", 'we', 'are', 'yours', 'a', 'such', 'own', 's', \"wasn't\", 'below', 'mightn', 'been', 'they', 'me', 'doesn', 'is', 'if', 'couldn', 'were', 'when', 'who', 'ours', 'our', \"wouldn't\", 'about', 'in', 'an', 'itself', 'having', 'after', 'of', 'same', 'with', 'before', 'has', \"you'd\", 'her', 'to', 'which', 'ma', 'herself', 'again', 'him', 'there', 'did', 'for', 'any', \"should've\", 'won', 'here', 'more', 'so', 'will', 'where', 'aren', 'yourselves', \"couldn't\", 'than', 'and', 'hadn', 'during', 'them', \"hasn't\", 'isn', 'himself', \"needn't\"}\n"
          ]
        }
      ]
    },
    {
      "cell_type": "markdown",
      "source": [
        "**StopWord Removal**"
      ],
      "metadata": {
        "id": "THUyEO2R43cy"
      }
    },
    {
      "cell_type": "code",
      "source": [
        "filtered_sent = []\n",
        "for w in tokenized_word:\n",
        "  if w not in stop_word:\n",
        "    filtered_sent.append(w)\n",
        "\n",
        "print(\"Tokenized Senetence:\", tokenized_word)\n",
        "print(\"\\nFiltered Sentence:\", filtered_sent)"
      ],
      "metadata": {
        "colab": {
          "base_uri": "https://localhost:8080/"
        },
        "id": "MB6UdkiV0e18",
        "outputId": "7448f4ee-8cf4-4bc3-e461-c068d16c2b70"
      },
      "execution_count": null,
      "outputs": [
        {
          "output_type": "stream",
          "name": "stdout",
          "text": [
            "Tokenized Senetence: ['Django', 'is', 'a', 'python', 'based', 'web', 'application', 'framework', 'that', 'is', 'free', 'and', 'open', 'source', '.', 'A', 'framework', 'is', 'simply', 'a', 'collection', 'of', 'module', 'that', 'facilitate', 'development.Rapid', 'Development', 'and', 'pragmatic', 'design', 'are', 'key', 'benefit', 'of', 'django', '.', 'Django', 'is', 'python', 'based', 'programming', 'framework', '.', 'It', \"'s\", 'python', 'coding', 'tools', 'that', 'adds', 'functionality', 'and', 'speed', 'up', 'the', 'process', '.']\n",
            "\n",
            "Filtered Sentence: ['Django', 'python', 'based', 'web', 'application', 'framework', 'free', 'open', 'source', '.', 'A', 'framework', 'simply', 'collection', 'module', 'facilitate', 'development.Rapid', 'Development', 'pragmatic', 'design', 'key', 'benefit', 'django', '.', 'Django', 'python', 'based', 'programming', 'framework', '.', 'It', \"'s\", 'python', 'coding', 'tools', 'adds', 'functionality', 'speed', 'process', '.']\n"
          ]
        }
      ]
    },
    {
      "cell_type": "markdown",
      "source": [
        "**Stemming**"
      ],
      "metadata": {
        "id": "HPNa58ab5dEe"
      }
    },
    {
      "cell_type": "code",
      "source": [
        "from nltk.stem import PorterStemmer                        #stemming reduce word to their base form\n",
        "from nltk.tokenize import sent_tokenize, word_tokenize"
      ],
      "metadata": {
        "id": "V_7bX2u14zad"
      },
      "execution_count": null,
      "outputs": []
    },
    {
      "cell_type": "code",
      "source": [
        "ps = PorterStemmer()\n",
        "\n",
        "stemmed_words=[]\n",
        "\n",
        "for w in filtered_sent:\n",
        "  stemmed_words.append(ps.stem(w))\n",
        "\n",
        "print(\"Filtered Sentence: \",filtered_sent)\n",
        "print(\"\\nStemmed Sentence: \",stemmed_words)"
      ],
      "metadata": {
        "colab": {
          "base_uri": "https://localhost:8080/"
        },
        "id": "Ky_-nj6R4zcq",
        "outputId": "c3120c6d-f784-43cb-fab5-4eb2051a733b"
      },
      "execution_count": null,
      "outputs": [
        {
          "output_type": "stream",
          "name": "stdout",
          "text": [
            "Filtered Sentence:  ['Django', 'python', 'based', 'web', 'application', 'framework', 'free', 'open', 'source', '.', 'A', 'framework', 'simply', 'collection', 'module', 'facilitate', 'development.Rapid', 'Development', 'pragmatic', 'design', 'key', 'benefit', 'django', '.', 'Django', 'python', 'based', 'programming', 'framework', '.', 'It', \"'s\", 'python', 'coding', 'tools', 'adds', 'functionality', 'speed', 'process', '.']\n",
            "\n",
            "Stemmed Sentence:  ['django', 'python', 'base', 'web', 'applic', 'framework', 'free', 'open', 'sourc', '.', 'a', 'framework', 'simpli', 'collect', 'modul', 'facilit', 'development.rapid', 'develop', 'pragmat', 'design', 'key', 'benefit', 'django', '.', 'django', 'python', 'base', 'program', 'framework', '.', 'it', \"'s\", 'python', 'code', 'tool', 'add', 'function', 'speed', 'process', '.']\n"
          ]
        }
      ]
    },
    {
      "cell_type": "markdown",
      "source": [
        "**Lemmatization**"
      ],
      "metadata": {
        "id": "kf72-R8I6RfZ"
      }
    },
    {
      "cell_type": "code",
      "source": [
        "import nltk\n",
        "nltk.download('wordnet')"
      ],
      "metadata": {
        "colab": {
          "base_uri": "https://localhost:8080/"
        },
        "id": "4DIx6yNk5t_n",
        "outputId": "72bd16bf-6fdd-4228-bea4-7ae82a2cf644"
      },
      "execution_count": null,
      "outputs": [
        {
          "output_type": "stream",
          "name": "stderr",
          "text": [
            "[nltk_data] Downloading package wordnet to /root/nltk_data...\n"
          ]
        },
        {
          "output_type": "execute_result",
          "data": {
            "text/plain": [
              "True"
            ]
          },
          "metadata": {},
          "execution_count": 24
        }
      ]
    },
    {
      "cell_type": "code",
      "source": [
        "from nltk.stem.wordnet import WordNetLemmatizer\n",
        "lem=WordNetLemmatizer()\n",
        "\n",
        "from nltk.stem.porter import PorterStemmer\n",
        "stem=PorterStemmer()\n",
        "\n",
        "lemma_word_list=[]\n",
        "for word in stemmed_words:\n",
        "  lemmat = lem.lemmatize(word,\"v\")       #change every word from word to its basic verb form\n",
        "  lemma_word_list.append(lemmat)\n",
        "\n",
        "print(\"Lemmatized Words:\",lemma_word_list)\n",
        "print(\"\\nStemmed Word:\",stemmed_words)\n"
      ],
      "metadata": {
        "colab": {
          "base_uri": "https://localhost:8080/"
        },
        "id": "AjBexriR5uBn",
        "outputId": "c402dc2f-f834-43c9-e9e6-75308aa5994e"
      },
      "execution_count": null,
      "outputs": [
        {
          "output_type": "stream",
          "name": "stdout",
          "text": [
            "Lemmatized Words: ['django', 'python', 'base', 'web', 'applic', 'framework', 'free', 'open', 'sourc', '.', 'a', 'framework', 'simpli', 'collect', 'modul', 'facilit', 'development.rapid', 'develop', 'pragmat', 'design', 'key', 'benefit', 'django', '.', 'django', 'python', 'base', 'program', 'framework', '.', 'it', \"'s\", 'python', 'code', 'tool', 'add', 'function', 'speed', 'process', '.']\n",
            "\n",
            "Stemmed Word: ['django', 'python', 'base', 'web', 'applic', 'framework', 'free', 'open', 'sourc', '.', 'a', 'framework', 'simpli', 'collect', 'modul', 'facilit', 'development.rapid', 'develop', 'pragmat', 'design', 'key', 'benefit', 'django', '.', 'django', 'python', 'base', 'program', 'framework', '.', 'it', \"'s\", 'python', 'code', 'tool', 'add', 'function', 'speed', 'process', '.']\n"
          ]
        }
      ]
    },
    {
      "cell_type": "markdown",
      "source": [
        "**POS TAgging**"
      ],
      "metadata": {
        "id": "b8FaG07m9sT0"
      }
    },
    {
      "cell_type": "code",
      "source": [
        "tokens = nltk.word_tokenize(text)\n",
        "print(tokens)"
      ],
      "metadata": {
        "colab": {
          "base_uri": "https://localhost:8080/"
        },
        "id": "doSMPjOs5uE_",
        "outputId": "81cdbea9-0871-4280-90ec-0858fad1e4d2"
      },
      "execution_count": null,
      "outputs": [
        {
          "output_type": "stream",
          "name": "stdout",
          "text": [
            "['Django', 'is', 'a', 'python', 'based', 'web', 'application', 'framework', 'that', 'is', 'free', 'and', 'open', 'source', '.', 'A', 'framework', 'is', 'simply', 'a', 'collection', 'of', 'module', 'that', 'facilitate', 'development.Rapid', 'Development', 'and', 'pragmatic', 'design', 'are', 'key', 'benefit', 'of', 'django', '.', 'Django', 'is', 'python', 'based', 'programming', 'framework', '.', 'It', \"'s\", 'python', 'coding', 'tools', 'that', 'adds', 'functionality', 'and', 'speed', 'up', 'the', 'process', '.']\n"
          ]
        }
      ]
    },
    {
      "cell_type": "code",
      "source": [
        "import nltk \n",
        "nltk.download('averaged_perceptron_tagger')"
      ],
      "metadata": {
        "colab": {
          "base_uri": "https://localhost:8080/"
        },
        "id": "7NCli_Vw4zgI",
        "outputId": "99c22358-1338-4cdc-922f-b1aed5a85d6a"
      },
      "execution_count": null,
      "outputs": [
        {
          "output_type": "stream",
          "name": "stderr",
          "text": [
            "[nltk_data] Downloading package averaged_perceptron_tagger to\n",
            "[nltk_data]     /root/nltk_data...\n",
            "[nltk_data]   Unzipping taggers/averaged_perceptron_tagger.zip.\n"
          ]
        },
        {
          "output_type": "execute_result",
          "data": {
            "text/plain": [
              "True"
            ]
          },
          "metadata": {},
          "execution_count": 29
        }
      ]
    },
    {
      "cell_type": "code",
      "source": [
        "nltk.pos_tag(tokens)"
      ],
      "metadata": {
        "colab": {
          "base_uri": "https://localhost:8080/"
        },
        "id": "Z65D9aoJ-CAU",
        "outputId": "67e251df-f64a-42e1-f681-25e0b72793e6"
      },
      "execution_count": null,
      "outputs": [
        {
          "output_type": "execute_result",
          "data": {
            "text/plain": [
              "[('Django', 'NNP'),\n",
              " ('is', 'VBZ'),\n",
              " ('a', 'DT'),\n",
              " ('python', 'NN'),\n",
              " ('based', 'VBN'),\n",
              " ('web', 'JJ'),\n",
              " ('application', 'NN'),\n",
              " ('framework', 'NN'),\n",
              " ('that', 'WDT'),\n",
              " ('is', 'VBZ'),\n",
              " ('free', 'JJ'),\n",
              " ('and', 'CC'),\n",
              " ('open', 'JJ'),\n",
              " ('source', 'NN'),\n",
              " ('.', '.'),\n",
              " ('A', 'DT'),\n",
              " ('framework', 'NN'),\n",
              " ('is', 'VBZ'),\n",
              " ('simply', 'RB'),\n",
              " ('a', 'DT'),\n",
              " ('collection', 'NN'),\n",
              " ('of', 'IN'),\n",
              " ('module', 'NN'),\n",
              " ('that', 'IN'),\n",
              " ('facilitate', 'JJ'),\n",
              " ('development.Rapid', 'NN'),\n",
              " ('Development', 'NNP'),\n",
              " ('and', 'CC'),\n",
              " ('pragmatic', 'JJ'),\n",
              " ('design', 'NN'),\n",
              " ('are', 'VBP'),\n",
              " ('key', 'JJ'),\n",
              " ('benefit', 'NN'),\n",
              " ('of', 'IN'),\n",
              " ('django', 'NN'),\n",
              " ('.', '.'),\n",
              " ('Django', 'NNP'),\n",
              " ('is', 'VBZ'),\n",
              " ('python', 'VBN'),\n",
              " ('based', 'VBN'),\n",
              " ('programming', 'VBG'),\n",
              " ('framework', 'NN'),\n",
              " ('.', '.'),\n",
              " ('It', 'PRP'),\n",
              " (\"'s\", 'VBZ'),\n",
              " ('python', 'JJ'),\n",
              " ('coding', 'NN'),\n",
              " ('tools', 'NNS'),\n",
              " ('that', 'WDT'),\n",
              " ('adds', 'VBZ'),\n",
              " ('functionality', 'NN'),\n",
              " ('and', 'CC'),\n",
              " ('speed', 'NN'),\n",
              " ('up', 'RP'),\n",
              " ('the', 'DT'),\n",
              " ('process', 'NN'),\n",
              " ('.', '.')]"
            ]
          },
          "metadata": {},
          "execution_count": 30
        }
      ]
    }
  ]
}
