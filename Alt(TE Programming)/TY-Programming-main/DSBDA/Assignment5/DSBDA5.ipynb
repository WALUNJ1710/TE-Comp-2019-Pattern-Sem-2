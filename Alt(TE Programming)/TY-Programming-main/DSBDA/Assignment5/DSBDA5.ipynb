{
  "nbformat": 4,
  "nbformat_minor": 0,
  "metadata": {
    "colab": {
      "provenance": [],
      "authorship_tag": "ABX9TyPDp5Eo67SwIiytAK5iPZKZ",
      "include_colab_link": true
    },
    "kernelspec": {
      "name": "python3",
      "display_name": "Python 3"
    },
    "language_info": {
      "name": "python"
    }
  },
  "cells": [
    {
      "cell_type": "markdown",
      "metadata": {
        "id": "view-in-github",
        "colab_type": "text"
      },
      "source": [
        "<a href=\"https://colab.research.google.com/github/SohanChidrawar/TY-Programming/blob/main/DSBDA5.ipynb\" target=\"_parent\"><img src=\"https://colab.research.google.com/assets/colab-badge.svg\" alt=\"Open In Colab\"/></a>"
      ]
    },
    {
      "cell_type": "code",
      "execution_count": null,
      "metadata": {
        "id": "Ou7nTVvoi6YZ"
      },
      "outputs": [],
      "source": [
        "# Data Analytics II\n",
        "# 1. Implement logistic regression using Python/R to perform classification on Social_Network_Ads.csv dataset.\n",
        "# 2. Compute Confusion matrix to find TP, FP, TN, FN, Accuracy, Error rate, Precision, Recall on the given dataset."
      ]
    },
    {
      "cell_type": "code",
      "source": [
        "import pandas as pd\n",
        "import numpy as np\n",
        "import seaborn as sns\n",
        "import matplotlib.pyplot as plt\n"
      ],
      "metadata": {
        "id": "tJoGdW-6jWvr"
      },
      "execution_count": null,
      "outputs": []
    },
    {
      "cell_type": "code",
      "source": [
        "df = pd.read_csv(\"Social_Network_Ads.csv\")"
      ],
      "metadata": {
        "id": "JLHE1U3yjw4q"
      },
      "execution_count": null,
      "outputs": []
    },
    {
      "cell_type": "code",
      "source": [
        "df"
      ],
      "metadata": {
        "colab": {
          "base_uri": "https://localhost:8080/",
          "height": 423
        },
        "id": "ZrcNI74EkD3C",
        "outputId": "ed93bcf8-7632-4f2d-911a-eb0d9bec35fe"
      },
      "execution_count": null,
      "outputs": [
        {
          "output_type": "execute_result",
          "data": {
            "text/plain": [
              "      User ID  Gender   Age  EstimatedSalary  Purchased\n",
              "0    15624510    Male  19.0          19000.0          0\n",
              "1    15810944    Male  35.0          20000.0          0\n",
              "2    15668575  Female  26.0          43000.0          0\n",
              "3    15603246  Female  27.0          57000.0          0\n",
              "4    15804002    Male  19.0          76000.0          0\n",
              "..        ...     ...   ...              ...        ...\n",
              "395  15691863  Female  46.0          41000.0          1\n",
              "396  15706071    Male  51.0          23000.0          1\n",
              "397  15654296  Female  50.0          20000.0          1\n",
              "398  15755018    Male  36.0          33000.0          0\n",
              "399  15594041  Female  49.0          36000.0          1\n",
              "\n",
              "[400 rows x 5 columns]"
            ],
            "text/html": [
              "\n",
              "  <div id=\"df-a38751b4-dd28-4454-a75d-5aa519b9ed6f\">\n",
              "    <div class=\"colab-df-container\">\n",
              "      <div>\n",
              "<style scoped>\n",
              "    .dataframe tbody tr th:only-of-type {\n",
              "        vertical-align: middle;\n",
              "    }\n",
              "\n",
              "    .dataframe tbody tr th {\n",
              "        vertical-align: top;\n",
              "    }\n",
              "\n",
              "    .dataframe thead th {\n",
              "        text-align: right;\n",
              "    }\n",
              "</style>\n",
              "<table border=\"1\" class=\"dataframe\">\n",
              "  <thead>\n",
              "    <tr style=\"text-align: right;\">\n",
              "      <th></th>\n",
              "      <th>User ID</th>\n",
              "      <th>Gender</th>\n",
              "      <th>Age</th>\n",
              "      <th>EstimatedSalary</th>\n",
              "      <th>Purchased</th>\n",
              "    </tr>\n",
              "  </thead>\n",
              "  <tbody>\n",
              "    <tr>\n",
              "      <th>0</th>\n",
              "      <td>15624510</td>\n",
              "      <td>Male</td>\n",
              "      <td>19.0</td>\n",
              "      <td>19000.0</td>\n",
              "      <td>0</td>\n",
              "    </tr>\n",
              "    <tr>\n",
              "      <th>1</th>\n",
              "      <td>15810944</td>\n",
              "      <td>Male</td>\n",
              "      <td>35.0</td>\n",
              "      <td>20000.0</td>\n",
              "      <td>0</td>\n",
              "    </tr>\n",
              "    <tr>\n",
              "      <th>2</th>\n",
              "      <td>15668575</td>\n",
              "      <td>Female</td>\n",
              "      <td>26.0</td>\n",
              "      <td>43000.0</td>\n",
              "      <td>0</td>\n",
              "    </tr>\n",
              "    <tr>\n",
              "      <th>3</th>\n",
              "      <td>15603246</td>\n",
              "      <td>Female</td>\n",
              "      <td>27.0</td>\n",
              "      <td>57000.0</td>\n",
              "      <td>0</td>\n",
              "    </tr>\n",
              "    <tr>\n",
              "      <th>4</th>\n",
              "      <td>15804002</td>\n",
              "      <td>Male</td>\n",
              "      <td>19.0</td>\n",
              "      <td>76000.0</td>\n",
              "      <td>0</td>\n",
              "    </tr>\n",
              "    <tr>\n",
              "      <th>...</th>\n",
              "      <td>...</td>\n",
              "      <td>...</td>\n",
              "      <td>...</td>\n",
              "      <td>...</td>\n",
              "      <td>...</td>\n",
              "    </tr>\n",
              "    <tr>\n",
              "      <th>395</th>\n",
              "      <td>15691863</td>\n",
              "      <td>Female</td>\n",
              "      <td>46.0</td>\n",
              "      <td>41000.0</td>\n",
              "      <td>1</td>\n",
              "    </tr>\n",
              "    <tr>\n",
              "      <th>396</th>\n",
              "      <td>15706071</td>\n",
              "      <td>Male</td>\n",
              "      <td>51.0</td>\n",
              "      <td>23000.0</td>\n",
              "      <td>1</td>\n",
              "    </tr>\n",
              "    <tr>\n",
              "      <th>397</th>\n",
              "      <td>15654296</td>\n",
              "      <td>Female</td>\n",
              "      <td>50.0</td>\n",
              "      <td>20000.0</td>\n",
              "      <td>1</td>\n",
              "    </tr>\n",
              "    <tr>\n",
              "      <th>398</th>\n",
              "      <td>15755018</td>\n",
              "      <td>Male</td>\n",
              "      <td>36.0</td>\n",
              "      <td>33000.0</td>\n",
              "      <td>0</td>\n",
              "    </tr>\n",
              "    <tr>\n",
              "      <th>399</th>\n",
              "      <td>15594041</td>\n",
              "      <td>Female</td>\n",
              "      <td>49.0</td>\n",
              "      <td>36000.0</td>\n",
              "      <td>1</td>\n",
              "    </tr>\n",
              "  </tbody>\n",
              "</table>\n",
              "<p>400 rows × 5 columns</p>\n",
              "</div>\n",
              "      <button class=\"colab-df-convert\" onclick=\"convertToInteractive('df-a38751b4-dd28-4454-a75d-5aa519b9ed6f')\"\n",
              "              title=\"Convert this dataframe to an interactive table.\"\n",
              "              style=\"display:none;\">\n",
              "        \n",
              "  <svg xmlns=\"http://www.w3.org/2000/svg\" height=\"24px\"viewBox=\"0 0 24 24\"\n",
              "       width=\"24px\">\n",
              "    <path d=\"M0 0h24v24H0V0z\" fill=\"none\"/>\n",
              "    <path d=\"M18.56 5.44l.94 2.06.94-2.06 2.06-.94-2.06-.94-.94-2.06-.94 2.06-2.06.94zm-11 1L8.5 8.5l.94-2.06 2.06-.94-2.06-.94L8.5 2.5l-.94 2.06-2.06.94zm10 10l.94 2.06.94-2.06 2.06-.94-2.06-.94-.94-2.06-.94 2.06-2.06.94z\"/><path d=\"M17.41 7.96l-1.37-1.37c-.4-.4-.92-.59-1.43-.59-.52 0-1.04.2-1.43.59L10.3 9.45l-7.72 7.72c-.78.78-.78 2.05 0 2.83L4 21.41c.39.39.9.59 1.41.59.51 0 1.02-.2 1.41-.59l7.78-7.78 2.81-2.81c.8-.78.8-2.07 0-2.86zM5.41 20L4 18.59l7.72-7.72 1.47 1.35L5.41 20z\"/>\n",
              "  </svg>\n",
              "      </button>\n",
              "      \n",
              "  <style>\n",
              "    .colab-df-container {\n",
              "      display:flex;\n",
              "      flex-wrap:wrap;\n",
              "      gap: 12px;\n",
              "    }\n",
              "\n",
              "    .colab-df-convert {\n",
              "      background-color: #E8F0FE;\n",
              "      border: none;\n",
              "      border-radius: 50%;\n",
              "      cursor: pointer;\n",
              "      display: none;\n",
              "      fill: #1967D2;\n",
              "      height: 32px;\n",
              "      padding: 0 0 0 0;\n",
              "      width: 32px;\n",
              "    }\n",
              "\n",
              "    .colab-df-convert:hover {\n",
              "      background-color: #E2EBFA;\n",
              "      box-shadow: 0px 1px 2px rgba(60, 64, 67, 0.3), 0px 1px 3px 1px rgba(60, 64, 67, 0.15);\n",
              "      fill: #174EA6;\n",
              "    }\n",
              "\n",
              "    [theme=dark] .colab-df-convert {\n",
              "      background-color: #3B4455;\n",
              "      fill: #D2E3FC;\n",
              "    }\n",
              "\n",
              "    [theme=dark] .colab-df-convert:hover {\n",
              "      background-color: #434B5C;\n",
              "      box-shadow: 0px 1px 3px 1px rgba(0, 0, 0, 0.15);\n",
              "      filter: drop-shadow(0px 1px 2px rgba(0, 0, 0, 0.3));\n",
              "      fill: #FFFFFF;\n",
              "    }\n",
              "  </style>\n",
              "\n",
              "      <script>\n",
              "        const buttonEl =\n",
              "          document.querySelector('#df-a38751b4-dd28-4454-a75d-5aa519b9ed6f button.colab-df-convert');\n",
              "        buttonEl.style.display =\n",
              "          google.colab.kernel.accessAllowed ? 'block' : 'none';\n",
              "\n",
              "        async function convertToInteractive(key) {\n",
              "          const element = document.querySelector('#df-a38751b4-dd28-4454-a75d-5aa519b9ed6f');\n",
              "          const dataTable =\n",
              "            await google.colab.kernel.invokeFunction('convertToInteractive',\n",
              "                                                     [key], {});\n",
              "          if (!dataTable) return;\n",
              "\n",
              "          const docLinkHtml = 'Like what you see? Visit the ' +\n",
              "            '<a target=\"_blank\" href=https://colab.research.google.com/notebooks/data_table.ipynb>data table notebook</a>'\n",
              "            + ' to learn more about interactive tables.';\n",
              "          element.innerHTML = '';\n",
              "          dataTable['output_type'] = 'display_data';\n",
              "          await google.colab.output.renderOutput(dataTable, element);\n",
              "          const docLink = document.createElement('div');\n",
              "          docLink.innerHTML = docLinkHtml;\n",
              "          element.appendChild(docLink);\n",
              "        }\n",
              "      </script>\n",
              "    </div>\n",
              "  </div>\n",
              "  "
            ]
          },
          "metadata": {},
          "execution_count": 4
        }
      ]
    },
    {
      "cell_type": "code",
      "source": [
        "### In this case gender dont have any impact on the final output"
      ],
      "metadata": {
        "id": "wLtdqA9bkFfE"
      },
      "execution_count": null,
      "outputs": []
    },
    {
      "cell_type": "code",
      "source": [
        "df.shape"
      ],
      "metadata": {
        "colab": {
          "base_uri": "https://localhost:8080/"
        },
        "id": "wRceYv7CkqjN",
        "outputId": "14277179-e6fd-443e-a8bf-dd9c0be66af8"
      },
      "execution_count": null,
      "outputs": [
        {
          "output_type": "execute_result",
          "data": {
            "text/plain": [
              "(400, 5)"
            ]
          },
          "metadata": {},
          "execution_count": 6
        }
      ]
    },
    {
      "cell_type": "code",
      "source": [
        "df.columns"
      ],
      "metadata": {
        "colab": {
          "base_uri": "https://localhost:8080/"
        },
        "id": "rjCh6h8hkrd9",
        "outputId": "21f98c0c-8e08-4e44-b508-68a59599acb1"
      },
      "execution_count": null,
      "outputs": [
        {
          "output_type": "execute_result",
          "data": {
            "text/plain": [
              "Index(['User ID', 'Gender', 'Age', 'EstimatedSalary', 'Purchased'], dtype='object')"
            ]
          },
          "metadata": {},
          "execution_count": 7
        }
      ]
    },
    {
      "cell_type": "code",
      "source": [
        "### we can perform exploratory data  analysis to find which columns are related to each other.\n",
        "### as in this case age and estimated salary is related. as this makes groups\n",
        "     "
      ],
      "metadata": {
        "id": "tGvcdy5CkuNu"
      },
      "execution_count": null,
      "outputs": []
    },
    {
      "cell_type": "code",
      "source": [
        "sns.jointplot(x = 'Age', y='EstimatedSalary', data=df, hue = 'Purchased')"
      ],
      "metadata": {
        "colab": {
          "base_uri": "https://localhost:8080/",
          "height": 458
        },
        "id": "aTtdpo2Ok1bp",
        "outputId": "2ae1f050-f050-44df-baaa-957cbe890e52"
      },
      "execution_count": null,
      "outputs": [
        {
          "output_type": "execute_result",
          "data": {
            "text/plain": [
              "<seaborn.axisgrid.JointGrid at 0x7f3a80ae80d0>"
            ]
          },
          "metadata": {},
          "execution_count": 9
        },
        {
          "output_type": "display_data",
          "data": {
            "text/plain": [
              "<Figure size 432x432 with 3 Axes>"
            ],
            "image/png": "[encoded data removed]"
          },
          "metadata": {
            "needs_background": "light"
          }
        }
      ]
    },
    {
      "cell_type": "code",
      "source": [
        "### we can create the same grouping graph using matplotlib also."
      ],
      "metadata": {
        "id": "eFwcL3MHlMib"
      },
      "execution_count": null,
      "outputs": []
    },
    {
      "cell_type": "code",
      "source": [
        "plt.scatter(df['Age'], df['EstimatedSalary'],c=df['Purchased'])"
      ],
      "metadata": {
        "colab": {
          "base_uri": "https://localhost:8080/",
          "height": 282
        },
        "id": "F7-Fz8SMlR5C",
        "outputId": "f2735f9e-9dde-4171-8a2a-00c46b274073"
      },
      "execution_count": null,
      "outputs": [
        {
          "output_type": "execute_result",
          "data": {
            "text/plain": [
              "<matplotlib.collections.PathCollection at 0x7f3a475bd610>"
            ]
          },
          "metadata": {},
          "execution_count": 12
        },
        {
          "output_type": "display_data",
          "data": {
            "text/plain": [
              "<Figure size 432x288 with 1 Axes>"
            ],
            "image/png": "[encoded data removed]"
          },
          "metadata": {
            "needs_background": "light"
          }
        }
      ]
    },
    {
      "cell_type": "code",
      "source": [
        "### lets sperate the input and output data"
      ],
      "metadata": {
        "id": "nE7bEO1tlfva"
      },
      "execution_count": null,
      "outputs": []
    },
    {
      "cell_type": "code",
      "source": [
        "x=df[['Age','EstimatedSalary']]"
      ],
      "metadata": {
        "id": "Tq6QmEPglkmw"
      },
      "execution_count": null,
      "outputs": []
    },
    {
      "cell_type": "code",
      "source": [
        "y = df['Purchased']"
      ],
      "metadata": {
        "id": "lH4jjKOolojR"
      },
      "execution_count": null,
      "outputs": []
    },
    {
      "cell_type": "code",
      "source": [
        "set(y)"
      ],
      "metadata": {
        "colab": {
          "base_uri": "https://localhost:8080/"
        },
        "id": "yqCfNDojlvME",
        "outputId": "f7560a9c-dbd1-41fe-d6f0-a4d9d529c67a"
      },
      "execution_count": null,
      "outputs": [
        {
          "output_type": "execute_result",
          "data": {
            "text/plain": [
              "{0, 1}"
            ]
          },
          "metadata": {},
          "execution_count": 18
        }
      ]
    },
    {
      "cell_type": "code",
      "source": [
        "### see data is balanced or not"
      ],
      "metadata": {
        "id": "odl_b27ylyUv"
      },
      "execution_count": null,
      "outputs": []
    },
    {
      "cell_type": "code",
      "source": [
        "sns.countplot(x=y)"
      ],
      "metadata": {
        "colab": {
          "base_uri": "https://localhost:8080/",
          "height": 296
        },
        "id": "cYVWzk_3l5en",
        "outputId": "647c8378-dd4c-431d-ea7c-b73f128c059e"
      },
      "execution_count": null,
      "outputs": [
        {
          "output_type": "execute_result",
          "data": {
            "text/plain": [
              "<Axes: xlabel='Purchased', ylabel='count'>"
            ]
          },
          "metadata": {},
          "execution_count": 20
        },
        {
          "output_type": "display_data",
          "data": {
            "text/plain": [
              "<Figure size 432x288 with 1 Axes>"
            ],
            "image/png": "[encoded data removed]"
          },
          "metadata": {
            "needs_background": "light"
          }
        }
      ]
    },
    {
      "cell_type": "code",
      "source": [
        "y.value_counts()"
      ],
      "metadata": {
        "colab": {
          "base_uri": "https://localhost:8080/"
        },
        "id": "uQG1s4ifl9KM",
        "outputId": "e69ac025-c5aa-45ed-9ecf-cf2cdd095d46"
      },
      "execution_count": null,
      "outputs": [
        {
          "output_type": "execute_result",
          "data": {
            "text/plain": [
              "0    257\n",
              "1    143\n",
              "Name: Purchased, dtype: int64"
            ]
          },
          "metadata": {},
          "execution_count": 21
        }
      ]
    },
    {
      "cell_type": "code",
      "source": [
        "### Logistic regression compalsory requied standardization"
      ],
      "metadata": {
        "id": "YT6Snfx7mCfi"
      },
      "execution_count": null,
      "outputs": []
    },
    {
      "cell_type": "code",
      "source": [
        "from sklearn.preprocessing import StandardScaler"
      ],
      "metadata": {
        "id": "4fl-09I1mF0P"
      },
      "execution_count": null,
      "outputs": []
    },
    {
      "cell_type": "code",
      "source": [
        "scaler = StandardScaler()"
      ],
      "metadata": {
        "id": "3PlcP_WhmKt7"
      },
      "execution_count": null,
      "outputs": []
    },
    {
      "cell_type": "code",
      "source": [
        "x_scaled = scaler.fit_transform(x)"
      ],
      "metadata": {
        "id": "NZ7IsxUwmN3V"
      },
      "execution_count": null,
      "outputs": []
    },
    {
      "cell_type": "code",
      "source": [
        "x_scaled"
      ],
      "metadata": {
        "colab": {
          "base_uri": "https://localhost:8080/"
        },
        "id": "DTdvxWYemUyu",
        "outputId": "6e6497eb-ac3c-4db4-fdfd-dc91bb0eb8ee"
      },
      "execution_count": null,
      "outputs": [
        {
          "output_type": "execute_result",
          "data": {
            "text/plain": [
              "array([[-1.78179743, -1.49004624],\n",
              "       [-0.25358736, -1.46068138],\n",
              "       [-1.11320552, -0.78528968],\n",
              "       [-1.01769239, -0.37418169],\n",
              "       [-1.78179743,  0.18375059],\n",
              "       [-1.01769239, -0.34481683],\n",
              "       [-1.01769239,  0.41866944],\n",
              "       [-0.54012675,  2.35674998],\n",
              "       [-1.20871865, -1.07893824],\n",
              "       [-0.25358736, -0.13926283],\n",
              "       [-1.11320552,  0.30121002],\n",
              "       [-1.11320552, -0.52100597],\n",
              "       [-1.6862843 ,  0.47739916],\n",
              "       [-0.54012675, -1.51941109],\n",
              "       [-1.87731056,  0.35993973],\n",
              "       [-0.82666613,  0.30121002],\n",
              "       [ 0.89257019, -1.3138571 ],\n",
              "       [ 0.70154394, -1.28449224],\n",
              "       [ 0.79705706, -1.22576253],\n",
              "       [ 0.98808332, -1.19639767],\n",
              "       [ 0.70154394, -1.40195167],\n",
              "       [ 0.89257019, -0.60910054],\n",
              "       [ 0.98808332, -0.84401939],\n",
              "       [ 0.70154394, -1.40195167],\n",
              "       [ 0.79705706, -1.37258681],\n",
              "       [ 0.89257019, -1.46068138],\n",
              "       [ 1.08359645, -1.22576253],\n",
              "       [ 0.89257019, -1.16703281],\n",
              "       [-0.82666613, -0.78528968],\n",
              "       [-0.63563988, -1.51941109],\n",
              "       [-0.63563988,  0.12502088],\n",
              "       [-1.01769239,  1.97500684],\n",
              "       [-1.59077117, -1.5781408 ],\n",
              "       [-0.92217926, -0.75592482],\n",
              "       [-1.01769239,  0.59485858],\n",
              "       [-0.25358736, -1.25512738],\n",
              "       [-0.44461362, -1.22576253],\n",
              "       [-0.73115301, -0.60910054],\n",
              "       [-1.11320552,  0.06629116],\n",
              "       [-1.01769239, -1.13766796],\n",
              "       [-1.01769239, -1.54877595],\n",
              "       [-0.44461362, -0.55037082],\n",
              "       [-0.25358736,  1.123426  ],\n",
              "       [-0.73115301, -1.60750566],\n",
              "       [-0.92217926,  0.41866944],\n",
              "       [-1.39974491, -1.46068138],\n",
              "       [-1.20871865,  0.27184516],\n",
              "       [-1.01769239, -0.46227625],\n",
              "       [-0.73115301,  1.91627713],\n",
              "       [-0.63563988,  0.56549373],\n",
              "       [-1.30423178, -1.1083031 ],\n",
              "       [-1.87731056, -0.75592482],\n",
              "       [-0.82666613,  0.38930459],\n",
              "       [-0.25358736, -1.37258681],\n",
              "       [-1.01769239, -0.34481683],\n",
              "       [-1.30423178, -0.4329114 ],\n",
              "       [-1.39974491, -0.63846539],\n",
              "       [-0.92217926,  0.27184516],\n",
              "       [-1.49525804, -1.51941109],\n",
              "       [-0.54012675,  1.38770971],\n",
              "       [-1.01769239, -1.46068138],\n",
              "       [-1.20871865,  0.50676401],\n",
              "       [-1.39974491, -0.10989798],\n",
              "       [-0.54012675,  1.47580428],\n",
              "       [ 2.03872775,  0.38930459],\n",
              "       [-1.30423178, -0.34481683],\n",
              "       [-1.30423178, -1.49004624],\n",
              "       [-1.39974491,  0.35993973],\n",
              "       [-1.49525804, -0.19799255],\n",
              "       [-0.63563988, -0.05116826],\n",
              "       [-1.20871865,  0.30121002],\n",
              "       [-1.30423178, -1.25512738],\n",
              "       [-1.6862843 , -1.37258681],\n",
              "       [-0.44461362,  1.27025028],\n",
              "       [-0.54012675, -1.51941109],\n",
              "       [-0.34910049,  1.24088543],\n",
              "       [-1.87731056, -0.52100597],\n",
              "       [-1.49525804, -1.25512738],\n",
              "       [-0.92217926,  0.50676401],\n",
              "       [-1.11320552, -1.54877595],\n",
              "       [-0.73115301,  0.30121002],\n",
              "       [ 0.12846516, -0.81465453],\n",
              "       [-1.6862843 , -0.60910054],\n",
              "       [-0.25358736,  0.53612887],\n",
              "       [-0.73115301, -0.2273574 ],\n",
              "       [-0.63563988,  1.41707457],\n",
              "       [-1.30423178, -0.4329114 ],\n",
              "       [-0.92217926,  0.4480343 ],\n",
              "       [-1.11320552,  0.33057487],\n",
              "       [-0.25358736, -0.57973568],\n",
              "       [-1.49525804,  0.33057487],\n",
              "       [-0.73115301,  1.35834485],\n",
              "       [-1.11320552, -1.60750566],\n",
              "       [-0.82666613, -1.22576253],\n",
              "       [-0.82666613,  0.38930459],\n",
              "       [-0.25358736, -0.75592482],\n",
              "       [-0.25358736, -1.3138571 ],\n",
              "       [-0.92217926,  1.56389885],\n",
              "       [-0.25358736,  0.09565602],\n",
              "       [-0.92217926, -0.96147882],\n",
              "       [-1.01769239,  0.53612887],\n",
              "       [-0.92217926, -0.31545197],\n",
              "       [-0.54012675,  0.47739916],\n",
              "       [-0.44461362,  2.32738512],\n",
              "       [-1.78179743, -1.43131652],\n",
              "       [-1.59077117,  0.06629116],\n",
              "       [-1.11320552, -1.02020853],\n",
              "       [-1.01769239,  0.56549373],\n",
              "       [-1.11320552,  0.47739916],\n",
              "       [ 0.03295203,  0.30121002],\n",
              "       [ 0.12846516,  0.03692631],\n",
              "       [-0.0625611 ,  0.03692631],\n",
              "       [ 0.03295203, -0.25672226],\n",
              "       [-0.0625611 , -0.4329114 ],\n",
              "       [ 0.41500455,  0.30121002],\n",
              "       [ 0.22397829, -0.37418169],\n",
              "       [-0.25358736,  0.15438573],\n",
              "       [-0.15807423, -0.52100597],\n",
              "       [ 0.22397829, -0.31545197],\n",
              "       [ 0.31949142, -0.31545197],\n",
              "       [-0.15807423,  0.15438573],\n",
              "       [-0.0625611 ,  0.06629116],\n",
              "       [ 0.22397829,  0.15438573],\n",
              "       [-0.25358736, -0.49164111],\n",
              "       [ 0.31949142, -0.55037082],\n",
              "       [ 0.12846516, -0.25672226],\n",
              "       [ 0.41500455, -0.13926283],\n",
              "       [-1.11320552, -1.1083031 ],\n",
              "       [-0.73115301, -1.54877595],\n",
              "       [-1.11320552,  0.41866944],\n",
              "       [-0.63563988, -0.34481683],\n",
              "       [-0.44461362, -1.13766796],\n",
              "       [-0.73115301,  0.50676401],\n",
              "       [-1.59077117, -0.05116826],\n",
              "       [-0.92217926, -0.4329114 ],\n",
              "       [-1.39974491, -0.19799255],\n",
              "       [-1.6862843 ,  0.35993973],\n",
              "       [-0.73115301,  1.09406114],\n",
              "       [-0.92217926, -0.31545197],\n",
              "       [-1.78179743, -1.3138571 ],\n",
              "       [-1.78179743,  0.4480343 ],\n",
              "       [-1.87731056, -0.05116826],\n",
              "       [-0.25358736, -0.31545197],\n",
              "       [-0.73115301,  0.56549373],\n",
              "       [-0.34910049, -1.3138571 ],\n",
              "       [-1.30423178,  0.56549373],\n",
              "       [-1.01769239,  0.77104772],\n",
              "       [ 0.31949142, -1.16703281],\n",
              "       [-0.82666613, -0.25672226],\n",
              "       [-1.6862843 ,  0.12502088],\n",
              "       [-1.11320552, -1.60750566],\n",
              "       [ 0.31949142, -0.72655996],\n",
              "       [-0.63563988,  0.18375059],\n",
              "       [-0.15807423, -0.57973568],\n",
              "       [ 0.22397829, -0.66783025],\n",
              "       [-0.63563988, -1.60750566],\n",
              "       [ 0.79705706, -0.31545197],\n",
              "       [-0.82666613,  0.15438573],\n",
              "       [-1.11320552, -1.16703281],\n",
              "       [-0.54012675,  1.91627713],\n",
              "       [-0.54012675,  0.88850715],\n",
              "       [-1.20871865,  0.59485858],\n",
              "       [-0.0625611 , -1.07893824],\n",
              "       [-0.25358736, -0.93211396],\n",
              "       [-0.44461362, -0.02180341],\n",
              "       [-1.87731056,  0.47739916],\n",
              "       [-1.49525804, -0.4329114 ],\n",
              "       [-0.25358736,  0.03692631],\n",
              "       [-0.82666613,  2.29802026],\n",
              "       [-0.82666613, -0.66783025],\n",
              "       [-1.59077117,  0.53612887],\n",
              "       [-0.34910049,  1.32898   ],\n",
              "       [-1.11320552,  1.41707457],\n",
              "       [-0.34910049, -0.78528968],\n",
              "       [-0.34910049,  0.06629116],\n",
              "       [-1.39974491, -1.22576253],\n",
              "       [-0.25358736, -0.66783025],\n",
              "       [-1.20871865, -1.40195167],\n",
              "       [-1.30423178, -1.37258681],\n",
              "       [-0.63563988, -1.04957339],\n",
              "       [-1.11320552, -1.5781408 ],\n",
              "       [-0.63563988,  0.03692631],\n",
              "       [-0.54012675,  1.38770971],\n",
              "       [-0.44461362, -0.78528968],\n",
              "       [-0.44461362, -0.28608712],\n",
              "       [-0.63563988, -0.10989798],\n",
              "       [-1.6862843 ,  0.35993973],\n",
              "       [-0.44461362, -0.84401939],\n",
              "       [-0.25358736,  0.06629116],\n",
              "       [-0.92217926, -1.1083031 ],\n",
              "       [-1.30423178,  0.41866944],\n",
              "       [-1.78179743, -1.28449224],\n",
              "       [-0.82666613, -0.78528968],\n",
              "       [-1.78179743,  0.00756145],\n",
              "       [-0.92217926,  0.56549373],\n",
              "       [-0.34910049, -0.78528968],\n",
              "       [-0.73115301,  0.27184516],\n",
              "       [-1.6862843 , -0.99084367],\n",
              "       [-1.11320552,  0.30121002],\n",
              "       [-0.25358736, -1.40195167],\n",
              "       [-0.25358736, -0.9027491 ],\n",
              "       [ 1.08359645,  0.12502088],\n",
              "       [ 0.12846516,  1.88691227],\n",
              "       [ 0.31949142,  0.03692631],\n",
              "       [ 1.94321462,  0.917872  ],\n",
              "       [ 0.89257019, -0.66783025],\n",
              "       [ 1.65667523,  1.76945285],\n",
              "       [ 1.37013584,  1.29961514],\n",
              "       [ 0.22397829,  2.12183112],\n",
              "       [ 0.79705706, -1.40195167],\n",
              "       [ 0.98808332,  0.77104772],\n",
              "       [ 1.37013584,  2.35674998],\n",
              "       [ 2.03872775, -0.81465453],\n",
              "       [-0.25358736, -0.34481683],\n",
              "       [ 0.89257019, -0.78528968],\n",
              "       [ 2.13424088,  1.123426  ],\n",
              "       [ 1.08359645, -0.13926283],\n",
              "       [ 0.22397829,  0.2424803 ],\n",
              "       [ 0.79705706,  0.77104772],\n",
              "       [ 2.03872775,  2.15119598],\n",
              "       [ 0.31949142,  0.30121002],\n",
              "       [-0.25358736,  0.62422344],\n",
              "       [-0.0625611 ,  2.18056084],\n",
              "       [ 2.13424088,  0.94723686],\n",
              "       [-0.25358736, -0.28608712],\n",
              "       [-0.0625611 , -0.49164111],\n",
              "       [-0.15807423,  1.65199342],\n",
              "       [ 1.75218836,  1.85754742],\n",
              "       [ 0.22397829,  0.06629116],\n",
              "       [ 0.41500455,  0.30121002],\n",
              "       [-0.25358736,  2.26865541],\n",
              "       [ 0.12846516, -0.81465453],\n",
              "       [ 0.22397829,  1.09406114],\n",
              "       [ 1.08359645,  0.47739916],\n",
              "       [ 0.03295203,  1.24088543],\n",
              "       [ 0.79705706,  0.27184516],\n",
              "       [ 0.22397829, -0.37418169],\n",
              "       [-0.0625611 ,  0.30121002],\n",
              "       [ 0.79705706,  0.35993973],\n",
              "       [ 1.46564897,  2.15119598],\n",
              "       [ 0.41500455,  2.32738512],\n",
              "       [ 0.03295203, -0.31545197],\n",
              "       [ 1.17910958,  0.53612887],\n",
              "       [ 1.75218836,  1.00596657],\n",
              "       [ 0.31949142,  0.06629116],\n",
              "       [ 1.27462271,  2.23929055],\n",
              "       [-0.25358736, -0.57973568],\n",
              "       [ 1.84770149,  1.53453399],\n",
              "       [ 0.31949142, -0.52100597],\n",
              "       [-0.25358736,  0.80041258],\n",
              "       [ 0.60603081, -0.9027491 ],\n",
              "       [-0.0625611 , -0.52100597],\n",
              "       [ 0.98808332,  1.88691227],\n",
              "       [-0.0625611 ,  2.23929055],\n",
              "       [ 1.17910958, -0.75592482],\n",
              "       [ 1.37013584,  0.59485858],\n",
              "       [ 0.31949142,  0.06629116],\n",
              "       [ 0.22397829, -0.37418169],\n",
              "       [ 1.94321462,  0.74168287],\n",
              "       [ 0.70154394,  1.7988177 ],\n",
              "       [-0.25358736,  0.21311545],\n",
              "       [-0.15807423,  2.18056084],\n",
              "       [ 1.65667523,  1.62262856],\n",
              "       [-0.25358736,  0.06629116],\n",
              "       [ 0.98808332,  0.59485858],\n",
              "       [ 0.41500455,  1.123426  ],\n",
              "       [ 0.22397829,  0.15438573],\n",
              "       [-0.0625611 ,  0.12502088],\n",
              "       [ 0.89257019,  2.18056084],\n",
              "       [ 0.22397829, -0.25672226],\n",
              "       [ 0.51051768,  1.85754742],\n",
              "       [ 2.03872775,  0.18375059],\n",
              "       [ 2.13424088, -0.81465453],\n",
              "       [ 0.12846516,  1.06469629],\n",
              "       [ 1.84770149, -1.28449224],\n",
              "       [ 1.84770149,  0.12502088],\n",
              "       [ 0.03295203,  0.03692631],\n",
              "       [ 1.08359645,  0.53612887],\n",
              "       [ 1.37013584, -0.93211396],\n",
              "       [ 1.17910958, -0.99084367],\n",
              "       [ 2.03872775,  0.53612887],\n",
              "       [-0.25358736, -0.25672226],\n",
              "       [-0.0625611 ,  0.00756145],\n",
              "       [ 1.37013584, -1.43131652],\n",
              "       [ 0.98808332,  2.09246627],\n",
              "       [-0.0625611 ,  0.68295315],\n",
              "       [-0.0625611 , -0.2273574 ],\n",
              "       [ 0.98808332,  2.0043717 ],\n",
              "       [ 0.31949142,  0.27184516],\n",
              "       [-0.0625611 ,  0.2424803 ],\n",
              "       [ 0.12846516,  1.88691227],\n",
              "       [ 1.08359645,  0.56549373],\n",
              "       [ 1.65667523, -0.9027491 ],\n",
              "       [-0.0625611 ,  0.21311545],\n",
              "       [-0.25358736, -0.37418169],\n",
              "       [-0.15807423, -0.19799255],\n",
              "       [ 0.41500455,  0.09565602],\n",
              "       [ 0.51051768,  1.24088543],\n",
              "       [ 0.70154394,  0.27184516],\n",
              "       [ 0.79705706,  1.38770971],\n",
              "       [ 1.94321462, -0.93211396],\n",
              "       [ 0.98808332,  0.12502088],\n",
              "       [-0.0625611 ,  1.97500684],\n",
              "       [-0.0625611 ,  0.27184516],\n",
              "       [ 0.22397829, -0.28608712],\n",
              "       [ 0.41500455, -0.46227625],\n",
              "       [ 1.27462271,  1.88691227],\n",
              "       [ 0.89257019,  1.27025028],\n",
              "       [-0.15807423,  1.62262856],\n",
              "       [ 0.03295203, -0.57973568],\n",
              "       [ 0.41500455,  0.00756145],\n",
              "       [ 0.12846516,  0.77104772],\n",
              "       [ 0.03295203, -0.57973568],\n",
              "       [ 1.08359645,  2.09246627],\n",
              "       [ 0.12846516,  0.27184516],\n",
              "       [ 0.12846516,  0.15438573],\n",
              "       [ 1.5611621 ,  1.00596657],\n",
              "       [-0.25358736, -0.4329114 ],\n",
              "       [ 0.70154394, -1.1083031 ],\n",
              "       [-0.15807423, -0.28608712],\n",
              "       [ 1.37013584,  2.0043717 ],\n",
              "       [ 1.46564897,  0.35993973],\n",
              "       [ 0.31949142, -0.52100597],\n",
              "       [ 0.98808332, -1.16703281],\n",
              "       [ 0.98808332,  1.7988177 ],\n",
              "       [ 0.31949142, -0.28608712],\n",
              "       [ 0.31949142,  0.06629116],\n",
              "       [ 0.41500455,  0.15438573],\n",
              "       [-0.15807423,  1.41707457],\n",
              "       [ 0.89257019,  1.09406114],\n",
              "       [ 0.03295203, -0.55037082],\n",
              "       [ 0.98808332,  1.44643942],\n",
              "       [ 0.41500455, -0.13926283],\n",
              "       [ 0.22397829, -0.13926283],\n",
              "       [ 1.84770149, -0.28608712],\n",
              "       [-0.15807423, -0.46227625],\n",
              "       [ 1.94321462,  2.18056084],\n",
              "       [-0.25358736,  0.27184516],\n",
              "       [ 0.03295203, -0.4329114 ],\n",
              "       [ 0.12846516,  1.53453399],\n",
              "       [ 1.46564897,  1.00596657],\n",
              "       [-0.25358736,  0.15438573],\n",
              "       [ 0.03295203, -0.13926283],\n",
              "       [ 0.89257019, -0.55037082],\n",
              "       [ 0.89257019,  1.03533143],\n",
              "       [ 0.31949142, -0.19799255],\n",
              "       [ 1.46564897,  0.06629116],\n",
              "       [ 1.5611621 ,  1.123426  ],\n",
              "       [ 0.12846516,  0.21311545],\n",
              "       [ 0.03295203, -0.25672226],\n",
              "       [ 0.03295203,  1.27025028],\n",
              "       [-0.0625611 ,  0.15438573],\n",
              "       [ 0.41500455,  0.59485858],\n",
              "       [-0.0625611 , -0.37418169],\n",
              "       [-0.15807423,  0.85914229],\n",
              "       [ 2.13424088, -1.04957339],\n",
              "       [ 1.5611621 ,  0.00756145],\n",
              "       [ 0.31949142,  0.06629116],\n",
              "       [ 0.22397829,  0.03692631],\n",
              "       [ 0.41500455, -0.46227625],\n",
              "       [ 0.51051768,  1.74008799],\n",
              "       [ 1.46564897, -1.04957339],\n",
              "       [ 0.89257019, -0.57973568],\n",
              "       [ 0.41500455,  0.27184516],\n",
              "       [ 0.41500455,  1.00596657],\n",
              "       [ 2.03872775, -1.19639767],\n",
              "       [ 1.94321462, -0.66783025],\n",
              "       [ 0.79705706,  0.53612887],\n",
              "       [ 0.03295203,  0.03692631],\n",
              "       [ 1.5611621 , -1.28449224],\n",
              "       [ 2.13424088, -0.69719511],\n",
              "       [ 2.13424088,  0.38930459],\n",
              "       [ 0.12846516,  0.09565602],\n",
              "       [ 2.03872775,  1.76945285],\n",
              "       [-0.0625611 ,  0.30121002],\n",
              "       [ 0.79705706, -1.1083031 ],\n",
              "       [ 0.79705706,  0.12502088],\n",
              "       [ 0.41500455, -0.49164111],\n",
              "       [ 0.31949142,  0.50676401],\n",
              "       [ 1.94321462, -1.37258681],\n",
              "       [ 0.41500455, -0.16862769],\n",
              "       [ 0.98808332, -1.07893824],\n",
              "       [ 0.60603081,  2.03373655],\n",
              "       [ 1.08359645, -1.22576253],\n",
              "       [ 1.84770149, -1.07893824],\n",
              "       [ 1.75218836, -0.28608712],\n",
              "       [ 1.08359645, -0.9027491 ],\n",
              "       [ 0.12846516,  0.03692631],\n",
              "       [ 0.89257019, -1.04957339],\n",
              "       [ 0.98808332, -1.02020853],\n",
              "       [ 0.98808332, -1.07893824],\n",
              "       [ 0.89257019, -1.37258681],\n",
              "       [ 0.70154394, -0.72655996],\n",
              "       [ 2.13424088, -0.81465453],\n",
              "       [ 0.12846516, -0.31545197],\n",
              "       [ 0.79705706, -0.84401939],\n",
              "       [ 1.27462271, -1.37258681],\n",
              "       [ 1.17910958, -1.46068138],\n",
              "       [-0.15807423, -1.07893824],\n",
              "       [ 1.08359645, -0.99084367]])"
            ]
          },
          "metadata": {},
          "execution_count": 27
        }
      ]
    },
    {
      "cell_type": "code",
      "source": [
        "pd.DataFrame(x_scaled).describe()"
      ],
      "metadata": {
        "colab": {
          "base_uri": "https://localhost:8080/",
          "height": 300
        },
        "id": "Xp9sfnCLmZ2H",
        "outputId": "04b860f4-6c59-49f6-c45f-fffd5158ba7c"
      },
      "execution_count": null,
      "outputs": [
        {
          "output_type": "execute_result",
          "data": {
            "text/plain": [
              "                  0             1\n",
              "count  4.000000e+02  4.000000e+02\n",
              "mean  -7.105427e-17 -1.776357e-17\n",
              "std    1.001252e+00  1.001252e+00\n",
              "min   -1.877311e+00 -1.607506e+00\n",
              "25%   -7.550313e-01 -7.852897e-01\n",
              "50%   -6.256110e-02  7.561451e-03\n",
              "75%    7.970571e-01  5.361289e-01\n",
              "max    2.134241e+00  2.356750e+00"
            ],
            "text/html": [
              "\n",
              "  <div id=\"df-1c12eecd-bcba-4fd9-b607-3f363ab93aff\">\n",
              "    <div class=\"colab-df-container\">\n",
              "      <div>\n",
              "<style scoped>\n",
              "    .dataframe tbody tr th:only-of-type {\n",
              "        vertical-align: middle;\n",
              "    }\n",
              "\n",
              "    .dataframe tbody tr th {\n",
              "        vertical-align: top;\n",
              "    }\n",
              "\n",
              "    .dataframe thead th {\n",
              "        text-align: right;\n",
              "    }\n",
              "</style>\n",
              "<table border=\"1\" class=\"dataframe\">\n",
              "  <thead>\n",
              "    <tr style=\"text-align: right;\">\n",
              "      <th></th>\n",
              "      <th>0</th>\n",
              "      <th>1</th>\n",
              "    </tr>\n",
              "  </thead>\n",
              "  <tbody>\n",
              "    <tr>\n",
              "      <th>count</th>\n",
              "      <td>4.000000e+02</td>\n",
              "      <td>4.000000e+02</td>\n",
              "    </tr>\n",
              "    <tr>\n",
              "      <th>mean</th>\n",
              "      <td>-7.105427e-17</td>\n",
              "      <td>-1.776357e-17</td>\n",
              "    </tr>\n",
              "    <tr>\n",
              "      <th>std</th>\n",
              "      <td>1.001252e+00</td>\n",
              "      <td>1.001252e+00</td>\n",
              "    </tr>\n",
              "    <tr>\n",
              "      <th>min</th>\n",
              "      <td>-1.877311e+00</td>\n",
              "      <td>-1.607506e+00</td>\n",
              "    </tr>\n",
              "    <tr>\n",
              "      <th>25%</th>\n",
              "      <td>-7.550313e-01</td>\n",
              "      <td>-7.852897e-01</td>\n",
              "    </tr>\n",
              "    <tr>\n",
              "      <th>50%</th>\n",
              "      <td>-6.256110e-02</td>\n",
              "      <td>7.561451e-03</td>\n",
              "    </tr>\n",
              "    <tr>\n",
              "      <th>75%</th>\n",
              "      <td>7.970571e-01</td>\n",
              "      <td>5.361289e-01</td>\n",
              "    </tr>\n",
              "    <tr>\n",
              "      <th>max</th>\n",
              "      <td>2.134241e+00</td>\n",
              "      <td>2.356750e+00</td>\n",
              "    </tr>\n",
              "  </tbody>\n",
              "</table>\n",
              "</div>\n",
              "      <button class=\"colab-df-convert\" onclick=\"convertToInteractive('df-1c12eecd-bcba-4fd9-b607-3f363ab93aff')\"\n",
              "              title=\"Convert this dataframe to an interactive table.\"\n",
              "              style=\"display:none;\">\n",
              "        \n",
              "  <svg xmlns=\"http://www.w3.org/2000/svg\" height=\"24px\"viewBox=\"0 0 24 24\"\n",
              "       width=\"24px\">\n",
              "    <path d=\"M0 0h24v24H0V0z\" fill=\"none\"/>\n",
              "    <path d=\"M18.56 5.44l.94 2.06.94-2.06 2.06-.94-2.06-.94-.94-2.06-.94 2.06-2.06.94zm-11 1L8.5 8.5l.94-2.06 2.06-.94-2.06-.94L8.5 2.5l-.94 2.06-2.06.94zm10 10l.94 2.06.94-2.06 2.06-.94-2.06-.94-.94-2.06-.94 2.06-2.06.94z\"/><path d=\"M17.41 7.96l-1.37-1.37c-.4-.4-.92-.59-1.43-.59-.52 0-1.04.2-1.43.59L10.3 9.45l-7.72 7.72c-.78.78-.78 2.05 0 2.83L4 21.41c.39.39.9.59 1.41.59.51 0 1.02-.2 1.41-.59l7.78-7.78 2.81-2.81c.8-.78.8-2.07 0-2.86zM5.41 20L4 18.59l7.72-7.72 1.47 1.35L5.41 20z\"/>\n",
              "  </svg>\n",
              "      </button>\n",
              "      \n",
              "  <style>\n",
              "    .colab-df-container {\n",
              "      display:flex;\n",
              "      flex-wrap:wrap;\n",
              "      gap: 12px;\n",
              "    }\n",
              "\n",
              "    .colab-df-convert {\n",
              "      background-color: #E8F0FE;\n",
              "      border: none;\n",
              "      border-radius: 50%;\n",
              "      cursor: pointer;\n",
              "      display: none;\n",
              "      fill: #1967D2;\n",
              "      height: 32px;\n",
              "      padding: 0 0 0 0;\n",
              "      width: 32px;\n",
              "    }\n",
              "\n",
              "    .colab-df-convert:hover {\n",
              "      background-color: #E2EBFA;\n",
              "      box-shadow: 0px 1px 2px rgba(60, 64, 67, 0.3), 0px 1px 3px 1px rgba(60, 64, 67, 0.15);\n",
              "      fill: #174EA6;\n",
              "    }\n",
              "\n",
              "    [theme=dark] .colab-df-convert {\n",
              "      background-color: #3B4455;\n",
              "      fill: #D2E3FC;\n",
              "    }\n",
              "\n",
              "    [theme=dark] .colab-df-convert:hover {\n",
              "      background-color: #434B5C;\n",
              "      box-shadow: 0px 1px 3px 1px rgba(0, 0, 0, 0.15);\n",
              "      filter: drop-shadow(0px 1px 2px rgba(0, 0, 0, 0.3));\n",
              "      fill: #FFFFFF;\n",
              "    }\n",
              "  </style>\n",
              "\n",
              "      <script>\n",
              "        const buttonEl =\n",
              "          document.querySelector('#df-1c12eecd-bcba-4fd9-b607-3f363ab93aff button.colab-df-convert');\n",
              "        buttonEl.style.display =\n",
              "          google.colab.kernel.accessAllowed ? 'block' : 'none';\n",
              "\n",
              "        async function convertToInteractive(key) {\n",
              "          const element = document.querySelector('#df-1c12eecd-bcba-4fd9-b607-3f363ab93aff');\n",
              "          const dataTable =\n",
              "            await google.colab.kernel.invokeFunction('convertToInteractive',\n",
              "                                                     [key], {});\n",
              "          if (!dataTable) return;\n",
              "\n",
              "          const docLinkHtml = 'Like what you see? Visit the ' +\n",
              "            '<a target=\"_blank\" href=https://colab.research.google.com/notebooks/data_table.ipynb>data table notebook</a>'\n",
              "            + ' to learn more about interactive tables.';\n",
              "          element.innerHTML = '';\n",
              "          dataTable['output_type'] = 'display_data';\n",
              "          await google.colab.output.renderOutput(dataTable, element);\n",
              "          const docLink = document.createElement('div');\n",
              "          docLink.innerHTML = docLinkHtml;\n",
              "          element.appendChild(docLink);\n",
              "        }\n",
              "      </script>\n",
              "    </div>\n",
              "  </div>\n",
              "  "
            ]
          },
          "metadata": {},
          "execution_count": 29
        }
      ]
    },
    {
      "cell_type": "code",
      "source": [
        "x_scaled.shape"
      ],
      "metadata": {
        "colab": {
          "base_uri": "https://localhost:8080/"
        },
        "id": "MMK2z6xcmh7X",
        "outputId": "90915f9e-4b74-44f3-833d-50a71912bb15"
      },
      "execution_count": null,
      "outputs": [
        {
          "output_type": "execute_result",
          "data": {
            "text/plain": [
              "(400, 2)"
            ]
          },
          "metadata": {},
          "execution_count": 30
        }
      ]
    },
    {
      "cell_type": "code",
      "source": [
        "plt.scatter(x_scaled[:,0],x_scaled[:,1],c=df['Purchased'])"
      ],
      "metadata": {
        "colab": {
          "base_uri": "https://localhost:8080/",
          "height": 284
        },
        "id": "SCAzkej1mmsQ",
        "outputId": "58958b89-02d4-4412-dae5-b1c2088534c0"
      },
      "execution_count": null,
      "outputs": [
        {
          "output_type": "execute_result",
          "data": {
            "text/plain": [
              "<matplotlib.collections.PathCollection at 0x7f3a42eae340>"
            ]
          },
          "metadata": {},
          "execution_count": 31
        },
        {
          "output_type": "display_data",
          "data": {
            "text/plain": [
              "<Figure size 432x288 with 1 Axes>"
            ],
            "image/png": "[encoded data removed]"
          },
          "metadata": {
            "needs_background": "light"
          }
        }
      ]
    },
    {
      "cell_type": "code",
      "source": [
        "plt.scatter(pd.DataFrame(x_scaled)[0],pd.DataFrame(x_scaled)[1],c=df['Purchased'])"
      ],
      "metadata": {
        "colab": {
          "base_uri": "https://localhost:8080/",
          "height": 284
        },
        "id": "VfEH2D2AnAsx",
        "outputId": "66a54b3c-6052-4626-de52-3938872f735f"
      },
      "execution_count": null,
      "outputs": [
        {
          "output_type": "execute_result",
          "data": {
            "text/plain": [
              "<matplotlib.collections.PathCollection at 0x7f3a42e51640>"
            ]
          },
          "metadata": {},
          "execution_count": 32
        },
        {
          "output_type": "display_data",
          "data": {
            "text/plain": [
              "<Figure size 432x288 with 1 Axes>"
            ],
            "image/png": "[encoded data removed]"
          },
          "metadata": {
            "needs_background": "light"
          }
        }
      ]
    },
    {
      "cell_type": "code",
      "source": [
        "### spliting data into training and testing\n",
        "     "
      ],
      "metadata": {
        "id": "EZ6tX-vGnP8Y"
      },
      "execution_count": null,
      "outputs": []
    },
    {
      "cell_type": "code",
      "source": [
        "from sklearn.model_selection import train_test_split"
      ],
      "metadata": {
        "id": "rYlGFrcInTA8"
      },
      "execution_count": null,
      "outputs": []
    },
    {
      "cell_type": "code",
      "source": [
        "x_train,x_test,y_train,y_test = train_test_split(x_scaled,y,random_state =0,test_size=0.25)"
      ],
      "metadata": {
        "id": "M5hmUiPxnb9Z"
      },
      "execution_count": null,
      "outputs": []
    },
    {
      "cell_type": "code",
      "source": [
        "x_train.shape"
      ],
      "metadata": {
        "colab": {
          "base_uri": "https://localhost:8080/"
        },
        "id": "6kp9T87snf2C",
        "outputId": "c364c9f3-9190-4e3f-c0ea-e8880521eaac"
      },
      "execution_count": null,
      "outputs": [
        {
          "output_type": "execute_result",
          "data": {
            "text/plain": [
              "(300, 2)"
            ]
          },
          "metadata": {},
          "execution_count": 36
        }
      ]
    },
    {
      "cell_type": "code",
      "source": [
        "x_test.shape"
      ],
      "metadata": {
        "colab": {
          "base_uri": "https://localhost:8080/"
        },
        "id": "Mz0Y7SK-njku",
        "outputId": "4c08f42c-6bf0-4a99-9532-c9da618daca1"
      },
      "execution_count": null,
      "outputs": [
        {
          "output_type": "execute_result",
          "data": {
            "text/plain": [
              "(100, 2)"
            ]
          },
          "metadata": {},
          "execution_count": 37
        }
      ]
    },
    {
      "cell_type": "code",
      "source": [
        "### let build logistic regressionmodel"
      ],
      "metadata": {
        "id": "mUU5TEZMnlPP"
      },
      "execution_count": null,
      "outputs": []
    },
    {
      "cell_type": "code",
      "source": [
        "from sklearn.linear_model import LogisticRegression"
      ],
      "metadata": {
        "id": "CYoZnnTynozr"
      },
      "execution_count": null,
      "outputs": []
    },
    {
      "cell_type": "code",
      "source": [
        "classifier = LogisticRegression()"
      ],
      "metadata": {
        "id": "ACikt67gnwYK"
      },
      "execution_count": null,
      "outputs": []
    },
    {
      "cell_type": "code",
      "source": [
        "classifier.fit(x_train,y_train)"
      ],
      "metadata": {
        "colab": {
          "base_uri": "https://localhost:8080/",
          "height": 74
        },
        "id": "ntWE-Lcfn0bc",
        "outputId": "a4c21016-c96d-44ad-fc46-21fbaac2f671"
      },
      "execution_count": null,
      "outputs": [
        {
          "output_type": "execute_result",
          "data": {
            "text/plain": [
              "LogisticRegression()"
            ],
            "text/html": [
              "<style>#sk-container-id-1 {color: black;background-color: white;}#sk-container-id-1 pre{padding: 0;}#sk-container-id-1 div.sk-toggleable {background-color: white;}#sk-container-id-1 label.sk-toggleable__label {cursor: pointer;display: block;width: 100%;margin-bottom: 0;padding: 0.3em;box-sizing: border-box;text-align: center;}#sk-container-id-1 label.sk-toggleable__label-arrow:before {content: \"▸\";float: left;margin-right: 0.25em;color: #696969;}#sk-container-id-1 label.sk-toggleable__label-arrow:hover:before {color: black;}#sk-container-id-1 div.sk-estimator:hover label.sk-toggleable__label-arrow:before {color: black;}#sk-container-id-1 div.sk-toggleable__content {max-height: 0;max-width: 0;overflow: hidden;text-align: left;background-color: #f0f8ff;}#sk-container-id-1 div.sk-toggleable__content pre {margin: 0.2em;color: black;border-radius: 0.25em;background-color: #f0f8ff;}#sk-container-id-1 input.sk-toggleable__control:checked~div.sk-toggleable__content {max-height: 200px;max-width: 100%;overflow: auto;}#sk-container-id-1 input.sk-toggleable__control:checked~label.sk-toggleable__label-arrow:before {content: \"▾\";}#sk-container-id-1 div.sk-estimator input.sk-toggleable__control:checked~label.sk-toggleable__label {background-color: #d4ebff;}#sk-container-id-1 div.sk-label input.sk-toggleable__control:checked~label.sk-toggleable__label {background-color: #d4ebff;}#sk-container-id-1 input.sk-hidden--visually {border: 0;clip: rect(1px 1px 1px 1px);clip: rect(1px, 1px, 1px, 1px);height: 1px;margin: -1px;overflow: hidden;padding: 0;position: absolute;width: 1px;}#sk-container-id-1 div.sk-estimator {font-family: monospace;background-color: #f0f8ff;border: 1px dotted black;border-radius: 0.25em;box-sizing: border-box;margin-bottom: 0.5em;}#sk-container-id-1 div.sk-estimator:hover {background-color: #d4ebff;}#sk-container-id-1 div.sk-parallel-item::after {content: \"\";width: 100%;border-bottom: 1px solid gray;flex-grow: 1;}#sk-container-id-1 div.sk-label:hover label.sk-toggleable__label {background-color: #d4ebff;}#sk-container-id-1 div.sk-serial::before {content: \"\";position: absolute;border-left: 1px solid gray;box-sizing: border-box;top: 0;bottom: 0;left: 50%;z-index: 0;}#sk-container-id-1 div.sk-serial {display: flex;flex-direction: column;align-items: center;background-color: white;padding-right: 0.2em;padding-left: 0.2em;position: relative;}#sk-container-id-1 div.sk-item {position: relative;z-index: 1;}#sk-container-id-1 div.sk-parallel {display: flex;align-items: stretch;justify-content: center;background-color: white;position: relative;}#sk-container-id-1 div.sk-item::before, #sk-container-id-1 div.sk-parallel-item::before {content: \"\";position: absolute;border-left: 1px solid gray;box-sizing: border-box;top: 0;bottom: 0;left: 50%;z-index: -1;}#sk-container-id-1 div.sk-parallel-item {display: flex;flex-direction: column;z-index: 1;position: relative;background-color: white;}#sk-container-id-1 div.sk-parallel-item:first-child::after {align-self: flex-end;width: 50%;}#sk-container-id-1 div.sk-parallel-item:last-child::after {align-self: flex-start;width: 50%;}#sk-container-id-1 div.sk-parallel-item:only-child::after {width: 0;}#sk-container-id-1 div.sk-dashed-wrapped {border: 1px dashed gray;margin: 0 0.4em 0.5em 0.4em;box-sizing: border-box;padding-bottom: 0.4em;background-color: white;}#sk-container-id-1 div.sk-label label {font-family: monospace;font-weight: bold;display: inline-block;line-height: 1.2em;}#sk-container-id-1 div.sk-label-container {text-align: center;}#sk-container-id-1 div.sk-container {/* jupyter's `normalize.less` sets `[hidden] { display: none; }` but bootstrap.min.css set `[hidden] { display: none !important; }` so we also need the `!important` here to be able to override the default hidden behavior on the sphinx rendered scikit-learn.org. See: https://github.com/scikit-learn/scikit-learn/issues/21755 */display: inline-block !important;position: relative;}#sk-container-id-1 div.sk-text-repr-fallback {display: none;}</style><div id=\"sk-container-id-1\" class=\"sk-top-container\"><div class=\"sk-text-repr-fallback\"><pre>LogisticRegression()</pre><b>In a Jupyter environment, please rerun this cell to show the HTML representation or trust the notebook. <br />On GitHub, the HTML representation is unable to render, please try loading this page with nbviewer.org.</b></div><div class=\"sk-container\" hidden><div class=\"sk-item\"><div class=\"sk-estimator sk-toggleable\"><input class=\"sk-toggleable__control sk-hidden--visually\" id=\"sk-estimator-id-1\" type=\"checkbox\" checked><label for=\"sk-estimator-id-1\" class=\"sk-toggleable__label sk-toggleable__label-arrow\">LogisticRegression</label><div class=\"sk-toggleable__content\"><pre>LogisticRegression()</pre></div></div></div></div></div>"
            ]
          },
          "metadata": {},
          "execution_count": 41
        }
      ]
    },
    {
      "cell_type": "markdown",
      "source": [
        "**In a Jupyter environment, please rerun this cell to show the HTML representation or trust the notebook.\n",
        "On GitHub, the HTML representation is unable to render, please try loading this page with nbviewer.org.**"
      ],
      "metadata": {
        "id": "mtr4UhKZn_J1"
      }
    },
    {
      "cell_type": "code",
      "source": [
        "### model is builded now x_test and y_test will be using to test accuracy of the model"
      ],
      "metadata": {
        "id": "IoBcqj8Ln6DH"
      },
      "execution_count": null,
      "outputs": []
    },
    {
      "cell_type": "code",
      "source": [
        "y_test.value_counts()"
      ],
      "metadata": {
        "colab": {
          "base_uri": "https://localhost:8080/"
        },
        "id": "81WPEWeuoDng",
        "outputId": "51e8e692-3566-4a88-f8d2-aa44c3e64c29"
      },
      "execution_count": null,
      "outputs": [
        {
          "output_type": "execute_result",
          "data": {
            "text/plain": [
              "0    68\n",
              "1    32\n",
              "Name: Purchased, dtype: int64"
            ]
          },
          "metadata": {},
          "execution_count": 45
        }
      ]
    },
    {
      "cell_type": "code",
      "source": [
        "### prediction on the test data"
      ],
      "metadata": {
        "id": "rSow3qRDoGK4"
      },
      "execution_count": null,
      "outputs": []
    },
    {
      "cell_type": "code",
      "source": [
        "y_pred = classifier.predict(x_test)"
      ],
      "metadata": {
        "id": "kZjCKwl2oM0y"
      },
      "execution_count": null,
      "outputs": []
    },
    {
      "cell_type": "code",
      "source": [
        "y_pred"
      ],
      "metadata": {
        "colab": {
          "base_uri": "https://localhost:8080/"
        },
        "id": "gVWd5bLToSc8",
        "outputId": "0e212357-f2a2-4a06-b878-8223e5d69bb3"
      },
      "execution_count": null,
      "outputs": [
        {
          "output_type": "execute_result",
          "data": {
            "text/plain": [
              "array([0, 0, 0, 0, 0, 0, 0, 1, 0, 1, 0, 0, 0, 0, 0, 0, 0, 0, 1, 0, 0, 1,\n",
              "       0, 1, 0, 1, 0, 0, 0, 0, 0, 0, 1, 0, 0, 0, 0, 0, 0, 1, 0, 0, 0, 0,\n",
              "       1, 0, 0, 1, 0, 1, 1, 0, 0, 0, 1, 0, 0, 0, 0, 0, 0, 1, 0, 0, 0, 1,\n",
              "       0, 0, 0, 0, 1, 0, 0, 0, 0, 0, 1, 0, 1, 1, 1, 1, 0, 0, 1, 1, 0, 1,\n",
              "       0, 0, 0, 1, 0, 0, 0, 0, 0, 0, 1, 1])"
            ]
          },
          "metadata": {},
          "execution_count": 48
        }
      ]
    },
    {
      "cell_type": "code",
      "source": [
        "\n",
        "result = pd.DataFrame({\n",
        "    'actual':y_test,\n",
        "    'predicted values':y_pred\n",
        "})\n",
        "   "
      ],
      "metadata": {
        "id": "t-WM-uHDoT83"
      },
      "execution_count": null,
      "outputs": []
    },
    {
      "cell_type": "code",
      "source": [
        "result"
      ],
      "metadata": {
        "colab": {
          "base_uri": "https://localhost:8080/",
          "height": 423
        },
        "id": "cqVgrA9hoXg3",
        "outputId": "057104ac-0942-4d93-e33a-e68e034b9472"
      },
      "execution_count": null,
      "outputs": [
        {
          "output_type": "execute_result",
          "data": {
            "text/plain": [
              "     actual  predicted values\n",
              "132       0                 0\n",
              "309       0                 0\n",
              "341       0                 0\n",
              "196       0                 0\n",
              "246       0                 0\n",
              "..      ...               ...\n",
              "146       1                 0\n",
              "135       0                 0\n",
              "390       1                 0\n",
              "264       1                 1\n",
              "364       1                 1\n",
              "\n",
              "[100 rows x 2 columns]"
            ],
            "text/html": [
              "\n",
              "  <div id=\"df-5318ad39-b5a7-48d7-a332-90f4914ddf98\">\n",
              "    <div class=\"colab-df-container\">\n",
              "      <div>\n",
              "<style scoped>\n",
              "    .dataframe tbody tr th:only-of-type {\n",
              "        vertical-align: middle;\n",
              "    }\n",
              "\n",
              "    .dataframe tbody tr th {\n",
              "        vertical-align: top;\n",
              "    }\n",
              "\n",
              "    .dataframe thead th {\n",
              "        text-align: right;\n",
              "    }\n",
              "</style>\n",
              "<table border=\"1\" class=\"dataframe\">\n",
              "  <thead>\n",
              "    <tr style=\"text-align: right;\">\n",
              "      <th></th>\n",
              "      <th>actual</th>\n",
              "      <th>predicted values</th>\n",
              "    </tr>\n",
              "  </thead>\n",
              "  <tbody>\n",
              "    <tr>\n",
              "      <th>132</th>\n",
              "      <td>0</td>\n",
              "      <td>0</td>\n",
              "    </tr>\n",
              "    <tr>\n",
              "      <th>309</th>\n",
              "      <td>0</td>\n",
              "      <td>0</td>\n",
              "    </tr>\n",
              "    <tr>\n",
              "      <th>341</th>\n",
              "      <td>0</td>\n",
              "      <td>0</td>\n",
              "    </tr>\n",
              "    <tr>\n",
              "      <th>196</th>\n",
              "      <td>0</td>\n",
              "      <td>0</td>\n",
              "    </tr>\n",
              "    <tr>\n",
              "      <th>246</th>\n",
              "      <td>0</td>\n",
              "      <td>0</td>\n",
              "    </tr>\n",
              "    <tr>\n",
              "      <th>...</th>\n",
              "      <td>...</td>\n",
              "      <td>...</td>\n",
              "    </tr>\n",
              "    <tr>\n",
              "      <th>146</th>\n",
              "      <td>1</td>\n",
              "      <td>0</td>\n",
              "    </tr>\n",
              "    <tr>\n",
              "      <th>135</th>\n",
              "      <td>0</td>\n",
              "      <td>0</td>\n",
              "    </tr>\n",
              "    <tr>\n",
              "      <th>390</th>\n",
              "      <td>1</td>\n",
              "      <td>0</td>\n",
              "    </tr>\n",
              "    <tr>\n",
              "      <th>264</th>\n",
              "      <td>1</td>\n",
              "      <td>1</td>\n",
              "    </tr>\n",
              "    <tr>\n",
              "      <th>364</th>\n",
              "      <td>1</td>\n",
              "      <td>1</td>\n",
              "    </tr>\n",
              "  </tbody>\n",
              "</table>\n",
              "<p>100 rows × 2 columns</p>\n",
              "</div>\n",
              "      <button class=\"colab-df-convert\" onclick=\"convertToInteractive('df-5318ad39-b5a7-48d7-a332-90f4914ddf98')\"\n",
              "              title=\"Convert this dataframe to an interactive table.\"\n",
              "              style=\"display:none;\">\n",
              "        \n",
              "  <svg xmlns=\"http://www.w3.org/2000/svg\" height=\"24px\"viewBox=\"0 0 24 24\"\n",
              "       width=\"24px\">\n",
              "    <path d=\"M0 0h24v24H0V0z\" fill=\"none\"/>\n",
              "    <path d=\"M18.56 5.44l.94 2.06.94-2.06 2.06-.94-2.06-.94-.94-2.06-.94 2.06-2.06.94zm-11 1L8.5 8.5l.94-2.06 2.06-.94-2.06-.94L8.5 2.5l-.94 2.06-2.06.94zm10 10l.94 2.06.94-2.06 2.06-.94-2.06-.94-.94-2.06-.94 2.06-2.06.94z\"/><path d=\"M17.41 7.96l-1.37-1.37c-.4-.4-.92-.59-1.43-.59-.52 0-1.04.2-1.43.59L10.3 9.45l-7.72 7.72c-.78.78-.78 2.05 0 2.83L4 21.41c.39.39.9.59 1.41.59.51 0 1.02-.2 1.41-.59l7.78-7.78 2.81-2.81c.8-.78.8-2.07 0-2.86zM5.41 20L4 18.59l7.72-7.72 1.47 1.35L5.41 20z\"/>\n",
              "  </svg>\n",
              "      </button>\n",
              "      \n",
              "  <style>\n",
              "    .colab-df-container {\n",
              "      display:flex;\n",
              "      flex-wrap:wrap;\n",
              "      gap: 12px;\n",
              "    }\n",
              "\n",
              "    .colab-df-convert {\n",
              "      background-color: #E8F0FE;\n",
              "      border: none;\n",
              "      border-radius: 50%;\n",
              "      cursor: pointer;\n",
              "      display: none;\n",
              "      fill: #1967D2;\n",
              "      height: 32px;\n",
              "      padding: 0 0 0 0;\n",
              "      width: 32px;\n",
              "    }\n",
              "\n",
              "    .colab-df-convert:hover {\n",
              "      background-color: #E2EBFA;\n",
              "      box-shadow: 0px 1px 2px rgba(60, 64, 67, 0.3), 0px 1px 3px 1px rgba(60, 64, 67, 0.15);\n",
              "      fill: #174EA6;\n",
              "    }\n",
              "\n",
              "    [theme=dark] .colab-df-convert {\n",
              "      background-color: #3B4455;\n",
              "      fill: #D2E3FC;\n",
              "    }\n",
              "\n",
              "    [theme=dark] .colab-df-convert:hover {\n",
              "      background-color: #434B5C;\n",
              "      box-shadow: 0px 1px 3px 1px rgba(0, 0, 0, 0.15);\n",
              "      filter: drop-shadow(0px 1px 2px rgba(0, 0, 0, 0.3));\n",
              "      fill: #FFFFFF;\n",
              "    }\n",
              "  </style>\n",
              "\n",
              "      <script>\n",
              "        const buttonEl =\n",
              "          document.querySelector('#df-5318ad39-b5a7-48d7-a332-90f4914ddf98 button.colab-df-convert');\n",
              "        buttonEl.style.display =\n",
              "          google.colab.kernel.accessAllowed ? 'block' : 'none';\n",
              "\n",
              "        async function convertToInteractive(key) {\n",
              "          const element = document.querySelector('#df-5318ad39-b5a7-48d7-a332-90f4914ddf98');\n",
              "          const dataTable =\n",
              "            await google.colab.kernel.invokeFunction('convertToInteractive',\n",
              "                                                     [key], {});\n",
              "          if (!dataTable) return;\n",
              "\n",
              "          const docLinkHtml = 'Like what you see? Visit the ' +\n",
              "            '<a target=\"_blank\" href=https://colab.research.google.com/notebooks/data_table.ipynb>data table notebook</a>'\n",
              "            + ' to learn more about interactive tables.';\n",
              "          element.innerHTML = '';\n",
              "          dataTable['output_type'] = 'display_data';\n",
              "          await google.colab.output.renderOutput(dataTable, element);\n",
              "          const docLink = document.createElement('div');\n",
              "          docLink.innerHTML = docLinkHtml;\n",
              "          element.appendChild(docLink);\n",
              "        }\n",
              "      </script>\n",
              "    </div>\n",
              "  </div>\n",
              "  "
            ]
          },
          "metadata": {},
          "execution_count": 50
        }
      ]
    },
    {
      "cell_type": "code",
      "source": [
        "sum(result['actual'] == result['predicted values'])"
      ],
      "metadata": {
        "colab": {
          "base_uri": "https://localhost:8080/"
        },
        "id": "LOemuokTocKs",
        "outputId": "b2e47637-21bf-4a21-8227-e290e4c828e4"
      },
      "execution_count": null,
      "outputs": [
        {
          "output_type": "execute_result",
          "data": {
            "text/plain": [
              "89"
            ]
          },
          "metadata": {},
          "execution_count": 51
        }
      ]
    },
    {
      "cell_type": "markdown",
      "source": [
        "Let us see the same things using methods\n",
        "2. Compute Confusion matrix to find TP, FP, TN, FN, Accuracy, Error rate, Precision, Recall on the given dataset.\n",
        "     "
      ],
      "metadata": {
        "id": "XM70hRv5okMy"
      }
    },
    {
      "cell_type": "code",
      "source": [
        "from sklearn.metrics import confusion_matrix, accuracy_score, classification_report, ConfusionMatrixDisplay"
      ],
      "metadata": {
        "id": "ZTgohvDzofck"
      },
      "execution_count": null,
      "outputs": []
    },
    {
      "cell_type": "code",
      "source": [
        "cm = confusion_matrix(y_test,y_pred)"
      ],
      "metadata": {
        "id": "GuYh9RbkowiD"
      },
      "execution_count": null,
      "outputs": []
    },
    {
      "cell_type": "code",
      "source": [
        "cm        ### rows are actual values,  columns are predicted values"
      ],
      "metadata": {
        "colab": {
          "base_uri": "https://localhost:8080/"
        },
        "id": "C41zewHNo3rD",
        "outputId": "03ca8fec-8923-4117-c350-3c6b342e537a"
      },
      "execution_count": null,
      "outputs": [
        {
          "output_type": "execute_result",
          "data": {
            "text/plain": [
              "array([[65,  3],\n",
              "       [ 8, 24]])"
            ]
          },
          "metadata": {},
          "execution_count": 55
        }
      ]
    },
    {
      "cell_type": "code",
      "source": [
        "### true positive = 65\n",
        "### true neg = 24"
      ],
      "metadata": {
        "id": "O-kMG0nmo4UF"
      },
      "execution_count": null,
      "outputs": []
    },
    {
      "cell_type": "code",
      "source": [
        "ConfusionMatrixDisplay(cm).plot()"
      ],
      "metadata": {
        "colab": {
          "base_uri": "https://localhost:8080/",
          "height": 296
        },
        "id": "hI5MCA36o_G7",
        "outputId": "ba9944d0-b1d2-44de-b773-9da310614c59"
      },
      "execution_count": null,
      "outputs": [
        {
          "output_type": "execute_result",
          "data": {
            "text/plain": [
              "<sklearn.metrics._plot.confusion_matrix.ConfusionMatrixDisplay at 0x7f3a42568460>"
            ]
          },
          "metadata": {},
          "execution_count": 57
        },
        {
          "output_type": "display_data",
          "data": {
            "text/plain": [
              "<Figure size 432x288 with 2 Axes>"
            ],
            "image/png": "[encoded data removed]"
          },
          "metadata": {
            "needs_background": "light"
          }
        }
      ]
    },
    {
      "cell_type": "code",
      "source": [
        "### TP\n",
        "cm[0,0,]"
      ],
      "metadata": {
        "colab": {
          "base_uri": "https://localhost:8080/"
        },
        "id": "21g4-z6qpBH1",
        "outputId": "de31ecf3-9573-4287-df4f-3c996cd09c7c"
      },
      "execution_count": null,
      "outputs": [
        {
          "output_type": "execute_result",
          "data": {
            "text/plain": [
              "65"
            ]
          },
          "metadata": {},
          "execution_count": 58
        }
      ]
    },
    {
      "cell_type": "code",
      "source": [
        "##TN\n",
        "cm[1,1]"
      ],
      "metadata": {
        "colab": {
          "base_uri": "https://localhost:8080/"
        },
        "id": "w5HO0WbgpHxL",
        "outputId": "244849f1-f959-4844-9c0b-3a12828d181a"
      },
      "execution_count": null,
      "outputs": [
        {
          "output_type": "execute_result",
          "data": {
            "text/plain": [
              "24"
            ]
          },
          "metadata": {},
          "execution_count": 59
        }
      ]
    },
    {
      "cell_type": "code",
      "source": [
        "### FP\n",
        "cm[0,1]"
      ],
      "metadata": {
        "colab": {
          "base_uri": "https://localhost:8080/"
        },
        "id": "-XMK04VPpKqk",
        "outputId": "96762d51-77ec-4074-af6c-e8b3bdac94da"
      },
      "execution_count": null,
      "outputs": [
        {
          "output_type": "execute_result",
          "data": {
            "text/plain": [
              "3"
            ]
          },
          "metadata": {},
          "execution_count": 60
        }
      ]
    },
    {
      "cell_type": "code",
      "source": [
        "### FN\n",
        "cm[1,0]"
      ],
      "metadata": {
        "colab": {
          "base_uri": "https://localhost:8080/"
        },
        "id": "zYFuQG04pM_S",
        "outputId": "9c24107a-0886-4ac3-ccf9-ff0068f24df8"
      },
      "execution_count": null,
      "outputs": [
        {
          "output_type": "execute_result",
          "data": {
            "text/plain": [
              "8"
            ]
          },
          "metadata": {},
          "execution_count": 61
        }
      ]
    },
    {
      "cell_type": "code",
      "source": [
        "accuracy_score(y_test,y_pred)"
      ],
      "metadata": {
        "colab": {
          "base_uri": "https://localhost:8080/"
        },
        "id": "yMD_74qRpOi9",
        "outputId": "10dfaf0e-5129-4285-b905-6ae9c21d3518"
      },
      "execution_count": null,
      "outputs": [
        {
          "output_type": "execute_result",
          "data": {
            "text/plain": [
              "0.89"
            ]
          },
          "metadata": {},
          "execution_count": 62
        }
      ]
    },
    {
      "cell_type": "code",
      "source": [
        "print(classification_report(y_test,y_pred))"
      ],
      "metadata": {
        "colab": {
          "base_uri": "https://localhost:8080/"
        },
        "id": "20jOH12MpQbE",
        "outputId": "6e05bdd8-7c45-4bf1-8131-77d5bbc13dc8"
      },
      "execution_count": null,
      "outputs": [
        {
          "output_type": "stream",
          "name": "stdout",
          "text": [
            "              precision    recall  f1-score   support\n",
            "\n",
            "           0       0.89      0.96      0.92        68\n",
            "           1       0.89      0.75      0.81        32\n",
            "\n",
            "    accuracy                           0.89       100\n",
            "   macro avg       0.89      0.85      0.87       100\n",
            "weighted avg       0.89      0.89      0.89       100\n",
            "\n"
          ]
        }
      ]
    },
    {
      "cell_type": "code",
      "source": [
        "cm"
      ],
      "metadata": {
        "colab": {
          "base_uri": "https://localhost:8080/"
        },
        "id": "AvsOF91-pUzC",
        "outputId": "69677d2c-591a-4bae-fdf5-e7549efe9883"
      },
      "execution_count": null,
      "outputs": [
        {
          "output_type": "execute_result",
          "data": {
            "text/plain": [
              "array([[65,  3],\n",
              "       [ 8, 24]])"
            ]
          },
          "metadata": {},
          "execution_count": 64
        }
      ]
    },
    {
      "cell_type": "code",
      "source": [
        "##recall - individual class accuracy"
      ],
      "metadata": {
        "id": "yyU4-gacpXwp"
      },
      "execution_count": null,
      "outputs": []
    },
    {
      "cell_type": "code",
      "source": [
        "### Sensitivity\n",
        "r0 = 65/68\n",
        "r0"
      ],
      "metadata": {
        "colab": {
          "base_uri": "https://localhost:8080/"
        },
        "id": "DyU3WCe_pbDO",
        "outputId": "ad7459b7-7460-4190-df57-94713e01cf94"
      },
      "execution_count": null,
      "outputs": [
        {
          "output_type": "execute_result",
          "data": {
            "text/plain": [
              "0.9558823529411765"
            ]
          },
          "metadata": {},
          "execution_count": 66
        }
      ]
    },
    {
      "cell_type": "code",
      "source": [
        "\n",
        "### Specificity\n",
        "r1 = 24/32\n",
        "r1"
      ],
      "metadata": {
        "colab": {
          "base_uri": "https://localhost:8080/"
        },
        "id": "P6VH0WpFpdCU",
        "outputId": "e5b1c1ca-1c1c-4520-bae9-50fc6a112f16"
      },
      "execution_count": null,
      "outputs": [
        {
          "output_type": "execute_result",
          "data": {
            "text/plain": [
              "0.75"
            ]
          },
          "metadata": {},
          "execution_count": 67
        }
      ]
    },
    {
      "cell_type": "code",
      "source": [
        "### Precision of class 0 is called as positive predicted value\n",
        "p0 = 65/73\n",
        "p0\n"
      ],
      "metadata": {
        "colab": {
          "base_uri": "https://localhost:8080/"
        },
        "id": "VjZVpU07pfNk",
        "outputId": "f35975ab-2d23-417e-e5a3-9e3e48541b9f"
      },
      "execution_count": null,
      "outputs": [
        {
          "output_type": "execute_result",
          "data": {
            "text/plain": [
              "0.8904109589041096"
            ]
          },
          "metadata": {},
          "execution_count": 68
        }
      ]
    },
    {
      "cell_type": "code",
      "source": [
        "### Precision of class 1 is called as negative predicted value\n",
        "p1 = 24/27\n",
        "p1\n",
        "  "
      ],
      "metadata": {
        "colab": {
          "base_uri": "https://localhost:8080/"
        },
        "id": "ii_R3q12phUX",
        "outputId": "2ff76587-b110-4823-b5f5-ca94b427debe"
      },
      "execution_count": null,
      "outputs": [
        {
          "output_type": "execute_result",
          "data": {
            "text/plain": [
              "0.8888888888888888"
            ]
          },
          "metadata": {},
          "execution_count": 69
        }
      ]
    },
    {
      "cell_type": "code",
      "source": [
        "### f1 score is harmonic mean"
      ],
      "metadata": {
        "id": "AsSrJ7Oopj6H"
      },
      "execution_count": null,
      "outputs": []
    },
    {
      "cell_type": "code",
      "source": [
        "f0 =2 * (p0 * r0) / (p0 + r0)"
      ],
      "metadata": {
        "id": "0HhdVa1YpmoH"
      },
      "execution_count": null,
      "outputs": []
    },
    {
      "cell_type": "code",
      "source": [
        "f0"
      ],
      "metadata": {
        "colab": {
          "base_uri": "https://localhost:8080/"
        },
        "id": "oJySt-3dposa",
        "outputId": "36770ad4-f81f-4bf4-cc27-02fd29bba933"
      },
      "execution_count": null,
      "outputs": [
        {
          "output_type": "execute_result",
          "data": {
            "text/plain": [
              "0.9219858156028369"
            ]
          },
          "metadata": {},
          "execution_count": 72
        }
      ]
    },
    {
      "cell_type": "code",
      "source": [
        "## f1 score\n",
        "f1 = 2 *(p1*r1) / (p1+r1)\n",
        "     "
      ],
      "metadata": {
        "id": "M109OwH7pp26"
      },
      "execution_count": null,
      "outputs": []
    },
    {
      "cell_type": "code",
      "source": [
        "f1"
      ],
      "metadata": {
        "colab": {
          "base_uri": "https://localhost:8080/"
        },
        "id": "4zqo1VmNpt2Y",
        "outputId": "03a75432-394a-4ecb-d6ff-ee1bd9df42a8"
      },
      "execution_count": null,
      "outputs": [
        {
          "output_type": "execute_result",
          "data": {
            "text/plain": [
              "0.8135593220338982"
            ]
          },
          "metadata": {},
          "execution_count": 74
        }
      ]
    },
    {
      "cell_type": "code",
      "source": [
        "new1 = [[45,78000]]"
      ],
      "metadata": {
        "id": "oha4Sye7pvAa"
      },
      "execution_count": null,
      "outputs": []
    },
    {
      "cell_type": "code",
      "source": [
        "new1 = scaler.transform(new1)"
      ],
      "metadata": {
        "colab": {
          "base_uri": "https://localhost:8080/"
        },
        "id": "4_YX3WEjpxfT",
        "outputId": "b3f337e5-f6a7-4d59-8d12-44d97e55bb15"
      },
      "execution_count": null,
      "outputs": [
        {
          "output_type": "stream",
          "name": "stderr",
          "text": [
            "/usr/local/lib/python3.9/dist-packages/sklearn/base.py:439: UserWarning: X does not have valid feature names, but StandardScaler was fitted with feature names\n",
            "  warnings.warn(\n"
          ]
        }
      ]
    },
    {
      "cell_type": "code",
      "source": [
        "classifier.predict(new1)"
      ],
      "metadata": {
        "colab": {
          "base_uri": "https://localhost:8080/"
        },
        "id": "VK1bnN9Pp1Eh",
        "outputId": "958a7050-71ff-4c5f-cd22-ad55eecdfe17"
      },
      "execution_count": null,
      "outputs": [
        {
          "output_type": "execute_result",
          "data": {
            "text/plain": [
              "array([1])"
            ]
          },
          "metadata": {},
          "execution_count": 77
        }
      ]
    },
    {
      "cell_type": "code",
      "source": [
        "new2 = [[25,20000]]\n",
        "new2 = scaler.transform(new2)\n",
        "classifier.predict(new2)"
      ],
      "metadata": {
        "colab": {
          "base_uri": "https://localhost:8080/"
        },
        "id": "VwbI0LzvrF04",
        "outputId": "98e700a2-9eef-442c-f56d-f0ef05b08f5a"
      },
      "execution_count": null,
      "outputs": [
        {
          "output_type": "stream",
          "name": "stderr",
          "text": [
            "/usr/local/lib/python3.9/dist-packages/sklearn/base.py:439: UserWarning: X does not have valid feature names, but StandardScaler was fitted with feature names\n",
            "  warnings.warn(\n"
          ]
        },
        {
          "output_type": "execute_result",
          "data": {
            "text/plain": [
              "array([0])"
            ]
          },
          "metadata": {},
          "execution_count": 78
        }
      ]
    },
    {
      "cell_type": "code",
      "source": [],
      "metadata": {
        "id": "_YzIwvYXrNyf"
      },
      "execution_count": null,
      "outputs": []
    }
  ]
}
