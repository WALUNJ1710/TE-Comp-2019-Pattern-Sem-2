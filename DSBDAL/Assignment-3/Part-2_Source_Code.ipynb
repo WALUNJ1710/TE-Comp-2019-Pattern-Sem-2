{
 "cells": [
  {
   "cell_type": "markdown",
   "id": "e8d0007b",
   "metadata": {},
   "source": [
    "## Importing Libraries"
   ]
  },
  {
   "cell_type": "code",
   "execution_count": 43,
   "id": "9e135a8d",
   "metadata": {},
   "outputs": [],
   "source": [
    "import pandas as pd\n",
    "import numpy as np\n",
    "import matplotlib.pyplot as plt\n",
    "import seaborn as sns"
   ]
  },
  {
   "cell_type": "markdown",
   "id": "8f00e69f",
   "metadata": {},
   "source": [
    "## Loading dataset"
   ]
  },
  {
   "cell_type": "code",
   "execution_count": 2,
   "id": "379c8cae",
   "metadata": {},
   "outputs": [],
   "source": [
    "df = pd.read_csv(\"Iris.csv\")"
   ]
  },
  {
   "cell_type": "code",
   "execution_count": 3,
   "id": "2c51952f",
   "metadata": {},
   "outputs": [
    {
     "data": {
      "text/html": [
       "<div>\n",
       "<style scoped>\n",
       "    .dataframe tbody tr th:only-of-type {\n",
       "        vertical-align: middle;\n",
       "    }\n",
       "\n",
       "    .dataframe tbody tr th {\n",
       "        vertical-align: top;\n",
       "    }\n",
       "\n",
       "    .dataframe thead th {\n",
       "        text-align: right;\n",
       "    }\n",
       "</style>\n",
       "<table border=\"1\" class=\"dataframe\">\n",
       "  <thead>\n",
       "    <tr style=\"text-align: right;\">\n",
       "      <th></th>\n",
       "      <th>Id</th>\n",
       "      <th>SepalLengthCm</th>\n",
       "      <th>SepalWidthCm</th>\n",
       "      <th>PetalLengthCm</th>\n",
       "      <th>PetalWidthCm</th>\n",
       "      <th>Species</th>\n",
       "    </tr>\n",
       "  </thead>\n",
       "  <tbody>\n",
       "    <tr>\n",
       "      <th>0</th>\n",
       "      <td>1</td>\n",
       "      <td>5.1</td>\n",
       "      <td>3.5</td>\n",
       "      <td>1.4</td>\n",
       "      <td>0.2</td>\n",
       "      <td>Iris-setosa</td>\n",
       "    </tr>\n",
       "    <tr>\n",
       "      <th>1</th>\n",
       "      <td>2</td>\n",
       "      <td>4.9</td>\n",
       "      <td>3.0</td>\n",
       "      <td>1.4</td>\n",
       "      <td>0.2</td>\n",
       "      <td>Iris-setosa</td>\n",
       "    </tr>\n",
       "    <tr>\n",
       "      <th>2</th>\n",
       "      <td>3</td>\n",
       "      <td>4.7</td>\n",
       "      <td>3.2</td>\n",
       "      <td>1.3</td>\n",
       "      <td>0.2</td>\n",
       "      <td>Iris-setosa</td>\n",
       "    </tr>\n",
       "    <tr>\n",
       "      <th>3</th>\n",
       "      <td>4</td>\n",
       "      <td>4.6</td>\n",
       "      <td>3.1</td>\n",
       "      <td>1.5</td>\n",
       "      <td>0.2</td>\n",
       "      <td>Iris-setosa</td>\n",
       "    </tr>\n",
       "    <tr>\n",
       "      <th>4</th>\n",
       "      <td>5</td>\n",
       "      <td>5.0</td>\n",
       "      <td>3.6</td>\n",
       "      <td>1.4</td>\n",
       "      <td>0.2</td>\n",
       "      <td>Iris-setosa</td>\n",
       "    </tr>\n",
       "  </tbody>\n",
       "</table>\n",
       "</div>"
      ],
      "text/plain": [
       "   Id  SepalLengthCm  SepalWidthCm  PetalLengthCm  PetalWidthCm      Species\n",
       "0   1            5.1           3.5            1.4           0.2  Iris-setosa\n",
       "1   2            4.9           3.0            1.4           0.2  Iris-setosa\n",
       "2   3            4.7           3.2            1.3           0.2  Iris-setosa\n",
       "3   4            4.6           3.1            1.5           0.2  Iris-setosa\n",
       "4   5            5.0           3.6            1.4           0.2  Iris-setosa"
      ]
     },
     "execution_count": 3,
     "metadata": {},
     "output_type": "execute_result"
    }
   ],
   "source": [
    "df.head()"
   ]
  },
  {
   "cell_type": "code",
   "execution_count": 5,
   "id": "f61d5d24",
   "metadata": {},
   "outputs": [
    {
     "data": {
      "text/plain": [
       "(150, 6)"
      ]
     },
     "execution_count": 5,
     "metadata": {},
     "output_type": "execute_result"
    }
   ],
   "source": [
    "df.shape"
   ]
  },
  {
   "cell_type": "code",
   "execution_count": 44,
   "id": "b8b713d0",
   "metadata": {},
   "outputs": [
    {
     "data": {
      "text/plain": [
       "Iris-versicolor    50\n",
       "Iris-setosa        50\n",
       "Iris-virginica     50\n",
       "Name: Species, dtype: int64"
      ]
     },
     "execution_count": 44,
     "metadata": {},
     "output_type": "execute_result"
    }
   ],
   "source": [
    "# Counting the sum of each species from our dataset\n",
    "\n",
    "df['Species'].value_counts()"
   ]
  },
  {
   "cell_type": "markdown",
   "id": "3eb82030",
   "metadata": {},
   "source": [
    "### Finding the mean value of our dataset"
   ]
  },
  {
   "cell_type": "code",
   "execution_count": 9,
   "id": "51135305",
   "metadata": {},
   "outputs": [
    {
     "data": {
      "text/plain": [
       "Id               75.500000\n",
       "SepalLengthCm     5.843333\n",
       "SepalWidthCm      3.054000\n",
       "PetalLengthCm     3.758667\n",
       "PetalWidthCm      1.198667\n",
       "dtype: float64"
      ]
     },
     "execution_count": 9,
     "metadata": {},
     "output_type": "execute_result"
    }
   ],
   "source": [
    "df.mean()"
   ]
  },
  {
   "cell_type": "markdown",
   "id": "1868cfb7",
   "metadata": {},
   "source": [
    "### Finding the minimum value of our dataset"
   ]
  },
  {
   "cell_type": "code",
   "execution_count": 10,
   "id": "59650c90",
   "metadata": {},
   "outputs": [
    {
     "data": {
      "text/plain": [
       "Id                         1\n",
       "SepalLengthCm            4.3\n",
       "SepalWidthCm             2.0\n",
       "PetalLengthCm            1.0\n",
       "PetalWidthCm             0.1\n",
       "Species          Iris-setosa\n",
       "dtype: object"
      ]
     },
     "execution_count": 10,
     "metadata": {},
     "output_type": "execute_result"
    }
   ],
   "source": [
    "df.min()"
   ]
  },
  {
   "cell_type": "markdown",
   "id": "2f0a631e",
   "metadata": {},
   "source": [
    "### Finding the maximum value of our dataset"
   ]
  },
  {
   "cell_type": "code",
   "execution_count": 11,
   "id": "adcb5601",
   "metadata": {},
   "outputs": [
    {
     "data": {
      "text/plain": [
       "Id                          150\n",
       "SepalLengthCm               7.9\n",
       "SepalWidthCm                4.4\n",
       "PetalLengthCm               6.9\n",
       "PetalWidthCm                2.5\n",
       "Species          Iris-virginica\n",
       "dtype: object"
      ]
     },
     "execution_count": 11,
     "metadata": {},
     "output_type": "execute_result"
    }
   ],
   "source": [
    "df.max()"
   ]
  },
  {
   "cell_type": "markdown",
   "id": "ffb33a0c",
   "metadata": {},
   "source": [
    "## Information about Iris-Versicolor"
   ]
  },
  {
   "cell_type": "code",
   "execution_count": 19,
   "id": "178981fd",
   "metadata": {},
   "outputs": [],
   "source": [
    "Iris_Versicolor = df.loc[df.Species=='Iris-versicolor']"
   ]
  },
  {
   "cell_type": "markdown",
   "id": "d980d07d",
   "metadata": {},
   "source": [
    "### Minimum value"
   ]
  },
  {
   "cell_type": "code",
   "execution_count": 27,
   "id": "d195a36c",
   "metadata": {},
   "outputs": [
    {
     "data": {
      "text/plain": [
       "Id                            51\n",
       "SepalLengthCm                4.9\n",
       "SepalWidthCm                 2.0\n",
       "PetalLengthCm                3.0\n",
       "PetalWidthCm                 1.0\n",
       "Species          Iris-versicolor\n",
       "dtype: object"
      ]
     },
     "execution_count": 27,
     "metadata": {},
     "output_type": "execute_result"
    }
   ],
   "source": [
    "Iris_Versicolor.min()"
   ]
  },
  {
   "cell_type": "markdown",
   "id": "7d1e3a15",
   "metadata": {},
   "source": [
    "### Maximum value"
   ]
  },
  {
   "cell_type": "code",
   "execution_count": 28,
   "id": "3d6a6a78",
   "metadata": {},
   "outputs": [
    {
     "data": {
      "text/plain": [
       "Id                           100\n",
       "SepalLengthCm                7.0\n",
       "SepalWidthCm                 3.4\n",
       "PetalLengthCm                5.1\n",
       "PetalWidthCm                 1.8\n",
       "Species          Iris-versicolor\n",
       "dtype: object"
      ]
     },
     "execution_count": 28,
     "metadata": {},
     "output_type": "execute_result"
    }
   ],
   "source": [
    "Iris_Versicolor.max()"
   ]
  },
  {
   "cell_type": "markdown",
   "id": "4a6c7896",
   "metadata": {},
   "source": [
    "### Mean / Average"
   ]
  },
  {
   "cell_type": "code",
   "execution_count": 22,
   "id": "949f84f8",
   "metadata": {},
   "outputs": [
    {
     "data": {
      "text/plain": [
       "Id               75.500\n",
       "SepalLengthCm     5.936\n",
       "SepalWidthCm      2.770\n",
       "PetalLengthCm     4.260\n",
       "PetalWidthCm      1.326\n",
       "dtype: float64"
      ]
     },
     "execution_count": 22,
     "metadata": {},
     "output_type": "execute_result"
    }
   ],
   "source": [
    "Iris_Versicolor.mean()"
   ]
  },
  {
   "cell_type": "markdown",
   "id": "15aff7d0",
   "metadata": {},
   "source": [
    "### Median"
   ]
  },
  {
   "cell_type": "code",
   "execution_count": 26,
   "id": "8de87078",
   "metadata": {},
   "outputs": [
    {
     "data": {
      "text/plain": [
       "Id               75.50\n",
       "SepalLengthCm     5.90\n",
       "SepalWidthCm      2.80\n",
       "PetalLengthCm     4.35\n",
       "PetalWidthCm      1.30\n",
       "dtype: float64"
      ]
     },
     "execution_count": 26,
     "metadata": {},
     "output_type": "execute_result"
    }
   ],
   "source": [
    "Iris_Versicolor.median()"
   ]
  },
  {
   "cell_type": "markdown",
   "id": "21b59300",
   "metadata": {},
   "source": [
    "### Standard Deviation"
   ]
  },
  {
   "cell_type": "code",
   "execution_count": 23,
   "id": "e49c4b76",
   "metadata": {},
   "outputs": [
    {
     "data": {
      "text/plain": [
       "Id               14.577380\n",
       "SepalLengthCm     0.516171\n",
       "SepalWidthCm      0.313798\n",
       "PetalLengthCm     0.469911\n",
       "PetalWidthCm      0.197753\n",
       "dtype: float64"
      ]
     },
     "execution_count": 23,
     "metadata": {},
     "output_type": "execute_result"
    }
   ],
   "source": [
    "Iris_Versicolor.std()"
   ]
  },
  {
   "cell_type": "markdown",
   "id": "2750156d",
   "metadata": {},
   "source": [
    "### Percentile"
   ]
  },
  {
   "cell_type": "code",
   "execution_count": 25,
   "id": "bfd4b809",
   "metadata": {},
   "outputs": [
    {
     "data": {
      "text/plain": [
       "Id               55.90\n",
       "SepalLengthCm     5.38\n",
       "SepalWidthCm      2.30\n",
       "PetalLengthCm     3.59\n",
       "PetalWidthCm      1.00\n",
       "Name: 0.1, dtype: float64"
      ]
     },
     "execution_count": 25,
     "metadata": {},
     "output_type": "execute_result"
    }
   ],
   "source": [
    "# To find percentile we use .quantile(n), where n tells us about the percentile\n",
    "# In this case n=0.1 means it will show 10th Percentile\n",
    "# .quantile(0.5) will be same as median\n",
    "\n",
    "Iris_Versicolor.quantile(0.1)"
   ]
  },
  {
   "cell_type": "markdown",
   "id": "3802fa71",
   "metadata": {},
   "source": [
    "---"
   ]
  },
  {
   "cell_type": "markdown",
   "id": "1f8559cb",
   "metadata": {},
   "source": [
    "## Information about Iris-Setosa"
   ]
  },
  {
   "cell_type": "code",
   "execution_count": 20,
   "id": "44087c08",
   "metadata": {},
   "outputs": [],
   "source": [
    "Iris_Setosa = df.loc[(df.Species=='Iris-setosa')]"
   ]
  },
  {
   "cell_type": "markdown",
   "id": "59300d56",
   "metadata": {},
   "source": [
    "### Minimum value"
   ]
  },
  {
   "cell_type": "code",
   "execution_count": 29,
   "id": "f75df0ff",
   "metadata": {},
   "outputs": [
    {
     "data": {
      "text/plain": [
       "Id                         1\n",
       "SepalLengthCm            4.3\n",
       "SepalWidthCm             2.3\n",
       "PetalLengthCm            1.0\n",
       "PetalWidthCm             0.1\n",
       "Species          Iris-setosa\n",
       "dtype: object"
      ]
     },
     "execution_count": 29,
     "metadata": {},
     "output_type": "execute_result"
    }
   ],
   "source": [
    "Iris_Setosa.min()"
   ]
  },
  {
   "cell_type": "markdown",
   "id": "7ad3ee52",
   "metadata": {},
   "source": [
    "### Maximum value"
   ]
  },
  {
   "cell_type": "code",
   "execution_count": 30,
   "id": "c6b2fd30",
   "metadata": {},
   "outputs": [
    {
     "data": {
      "text/plain": [
       "Id                        50\n",
       "SepalLengthCm            5.8\n",
       "SepalWidthCm             4.4\n",
       "PetalLengthCm            1.9\n",
       "PetalWidthCm             0.6\n",
       "Species          Iris-setosa\n",
       "dtype: object"
      ]
     },
     "execution_count": 30,
     "metadata": {},
     "output_type": "execute_result"
    }
   ],
   "source": [
    "Iris_Setosa.max()"
   ]
  },
  {
   "cell_type": "markdown",
   "id": "935da260",
   "metadata": {},
   "source": [
    "### Mean / Average"
   ]
  },
  {
   "cell_type": "code",
   "execution_count": 31,
   "id": "41a0e885",
   "metadata": {},
   "outputs": [
    {
     "data": {
      "text/plain": [
       "Id               25.500\n",
       "SepalLengthCm     5.006\n",
       "SepalWidthCm      3.418\n",
       "PetalLengthCm     1.464\n",
       "PetalWidthCm      0.244\n",
       "dtype: float64"
      ]
     },
     "execution_count": 31,
     "metadata": {},
     "output_type": "execute_result"
    }
   ],
   "source": [
    "Iris_Setosa.mean()"
   ]
  },
  {
   "cell_type": "markdown",
   "id": "77a0529a",
   "metadata": {},
   "source": [
    "### Median"
   ]
  },
  {
   "cell_type": "code",
   "execution_count": 32,
   "id": "ea97fb10",
   "metadata": {},
   "outputs": [
    {
     "data": {
      "text/plain": [
       "Id               25.5\n",
       "SepalLengthCm     5.0\n",
       "SepalWidthCm      3.4\n",
       "PetalLengthCm     1.5\n",
       "PetalWidthCm      0.2\n",
       "dtype: float64"
      ]
     },
     "execution_count": 32,
     "metadata": {},
     "output_type": "execute_result"
    }
   ],
   "source": [
    "Iris_Setosa.median()"
   ]
  },
  {
   "cell_type": "markdown",
   "id": "ac75cf1e",
   "metadata": {},
   "source": [
    "### Standard Deviation"
   ]
  },
  {
   "cell_type": "code",
   "execution_count": 33,
   "id": "61954ed3",
   "metadata": {},
   "outputs": [
    {
     "data": {
      "text/plain": [
       "Id               14.577380\n",
       "SepalLengthCm     0.352490\n",
       "SepalWidthCm      0.381024\n",
       "PetalLengthCm     0.173511\n",
       "PetalWidthCm      0.107210\n",
       "dtype: float64"
      ]
     },
     "execution_count": 33,
     "metadata": {},
     "output_type": "execute_result"
    }
   ],
   "source": [
    "Iris_Setosa.std()"
   ]
  },
  {
   "cell_type": "markdown",
   "id": "28608917",
   "metadata": {},
   "source": [
    "### Percentile"
   ]
  },
  {
   "cell_type": "code",
   "execution_count": 35,
   "id": "c96c77f1",
   "metadata": {},
   "outputs": [
    {
     "data": {
      "text/plain": [
       "Id               10.8\n",
       "SepalLengthCm     4.7\n",
       "SepalWidthCm      3.1\n",
       "PetalLengthCm     1.3\n",
       "PetalWidthCm      0.2\n",
       "Name: 0.2, dtype: float64"
      ]
     },
     "execution_count": 35,
     "metadata": {},
     "output_type": "execute_result"
    }
   ],
   "source": [
    "# To find percentile we use .quantile(n), where n tells us about the percentile\n",
    "# In this case n=0.2 means it will show 20th Percentile\n",
    "# .quantile(0.5) will be same as median\n",
    "\n",
    "Iris_Setosa.quantile(0.2)"
   ]
  },
  {
   "cell_type": "markdown",
   "id": "3698ce9d",
   "metadata": {},
   "source": [
    "---"
   ]
  },
  {
   "cell_type": "markdown",
   "id": "7bb00971",
   "metadata": {},
   "source": [
    "## Information about Iris-Virginica"
   ]
  },
  {
   "cell_type": "code",
   "execution_count": 21,
   "id": "038795ec",
   "metadata": {},
   "outputs": [],
   "source": [
    "Iris_Virginica = df.loc[(df.Species=='Iris-virginica')]"
   ]
  },
  {
   "cell_type": "markdown",
   "id": "6d7c4c1f",
   "metadata": {},
   "source": [
    "### Minimum value"
   ]
  },
  {
   "cell_type": "code",
   "execution_count": 36,
   "id": "1ed5ef1a",
   "metadata": {},
   "outputs": [
    {
     "data": {
      "text/plain": [
       "Id                          101\n",
       "SepalLengthCm               4.9\n",
       "SepalWidthCm                2.2\n",
       "PetalLengthCm               4.5\n",
       "PetalWidthCm                1.4\n",
       "Species          Iris-virginica\n",
       "dtype: object"
      ]
     },
     "execution_count": 36,
     "metadata": {},
     "output_type": "execute_result"
    }
   ],
   "source": [
    "Iris_Virginica.min()"
   ]
  },
  {
   "cell_type": "markdown",
   "id": "ad532541",
   "metadata": {},
   "source": [
    "### Maximum value"
   ]
  },
  {
   "cell_type": "code",
   "execution_count": 37,
   "id": "de5de27e",
   "metadata": {},
   "outputs": [
    {
     "data": {
      "text/plain": [
       "Id                          150\n",
       "SepalLengthCm               7.9\n",
       "SepalWidthCm                3.8\n",
       "PetalLengthCm               6.9\n",
       "PetalWidthCm                2.5\n",
       "Species          Iris-virginica\n",
       "dtype: object"
      ]
     },
     "execution_count": 37,
     "metadata": {},
     "output_type": "execute_result"
    }
   ],
   "source": [
    "Iris_Virginica.max()"
   ]
  },
  {
   "cell_type": "markdown",
   "id": "4970d292",
   "metadata": {},
   "source": [
    "### Mean / Average"
   ]
  },
  {
   "cell_type": "code",
   "execution_count": 39,
   "id": "e66d923c",
   "metadata": {},
   "outputs": [
    {
     "data": {
      "text/plain": [
       "Id               125.500\n",
       "SepalLengthCm      6.588\n",
       "SepalWidthCm       2.974\n",
       "PetalLengthCm      5.552\n",
       "PetalWidthCm       2.026\n",
       "dtype: float64"
      ]
     },
     "execution_count": 39,
     "metadata": {},
     "output_type": "execute_result"
    }
   ],
   "source": [
    "Iris_Virginica.mean()"
   ]
  },
  {
   "cell_type": "markdown",
   "id": "d4af174c",
   "metadata": {},
   "source": [
    "### Median"
   ]
  },
  {
   "cell_type": "code",
   "execution_count": 40,
   "id": "c908e883",
   "metadata": {},
   "outputs": [
    {
     "data": {
      "text/plain": [
       "Id               125.50\n",
       "SepalLengthCm      6.50\n",
       "SepalWidthCm       3.00\n",
       "PetalLengthCm      5.55\n",
       "PetalWidthCm       2.00\n",
       "dtype: float64"
      ]
     },
     "execution_count": 40,
     "metadata": {},
     "output_type": "execute_result"
    }
   ],
   "source": [
    "Iris_Virginica.median()"
   ]
  },
  {
   "cell_type": "markdown",
   "id": "7fa76ad2",
   "metadata": {},
   "source": [
    "### Standard Deviation"
   ]
  },
  {
   "cell_type": "code",
   "execution_count": 41,
   "id": "dd127676",
   "metadata": {},
   "outputs": [
    {
     "data": {
      "text/plain": [
       "Id               14.577380\n",
       "SepalLengthCm     0.635880\n",
       "SepalWidthCm      0.322497\n",
       "PetalLengthCm     0.551895\n",
       "PetalWidthCm      0.274650\n",
       "dtype: float64"
      ]
     },
     "execution_count": 41,
     "metadata": {},
     "output_type": "execute_result"
    }
   ],
   "source": [
    "Iris_Virginica.std()"
   ]
  },
  {
   "cell_type": "markdown",
   "id": "5cb815f0",
   "metadata": {},
   "source": [
    "### Percentile"
   ]
  },
  {
   "cell_type": "code",
   "execution_count": 42,
   "id": "3b6aa66b",
   "metadata": {},
   "outputs": [
    {
     "data": {
      "text/plain": [
       "Id               125.50\n",
       "SepalLengthCm      6.50\n",
       "SepalWidthCm       3.00\n",
       "PetalLengthCm      5.55\n",
       "PetalWidthCm       2.00\n",
       "Name: 0.5, dtype: float64"
      ]
     },
     "execution_count": 42,
     "metadata": {},
     "output_type": "execute_result"
    }
   ],
   "source": [
    "# To find percentile we use .quantile(n), where n tells us about the percentile\n",
    "# In this case n=0.5 means it will show 50th Percentile\n",
    "# .quantile(0.5) will be same as median\n",
    "\n",
    "Iris_Virginica.quantile(0.5)"
   ]
  }
 ],
 "metadata": {
  "kernelspec": {
   "display_name": "Python 3",
   "language": "python",
   "name": "python3"
  },
  "language_info": {
   "codemirror_mode": {
    "name": "ipython",
    "version": 3
   },
   "file_extension": ".py",
   "mimetype": "text/x-python",
   "name": "python",
   "nbconvert_exporter": "python",
   "pygments_lexer": "ipython3",
   "version": "3.8.8"
  }
 },
 "nbformat": 4,
 "nbformat_minor": 5
}
