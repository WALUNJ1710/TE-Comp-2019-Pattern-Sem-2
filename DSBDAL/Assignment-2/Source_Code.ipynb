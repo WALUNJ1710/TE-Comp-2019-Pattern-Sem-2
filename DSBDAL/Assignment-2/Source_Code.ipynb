{
 "cells": [
  {
   "cell_type": "markdown",
   "id": "292990db",
   "metadata": {},
   "source": [
    "# Part-I Data Gathering"
   ]
  },
  {
   "cell_type": "code",
   "execution_count": 4,
   "id": "21c92717",
   "metadata": {},
   "outputs": [
    {
     "name": "stdout",
     "output_type": "stream",
     "text": [
      "Requirement already satisfied: numpy in c:\\users\\sahil\\anaconda3\\lib\\site-packages (1.19.5)\n",
      "Requirement already satisfied: pandas in c:\\users\\sahil\\anaconda3\\lib\\site-packages (1.2.4)\n",
      "Requirement already satisfied: numpy>=1.16.5 in c:\\users\\sahil\\anaconda3\\lib\\site-packages (from pandas) (1.19.5)\n",
      "Requirement already satisfied: pytz>=2017.3 in c:\\users\\sahil\\anaconda3\\lib\\site-packages (from pandas) (2021.1)\n",
      "Requirement already satisfied: python-dateutil>=2.7.3 in c:\\users\\sahil\\anaconda3\\lib\\site-packages (from pandas) (2.8.1)\n",
      "Requirement already satisfied: six>=1.5 in c:\\users\\sahil\\anaconda3\\lib\\site-packages (from python-dateutil>=2.7.3->pandas) (1.15.0)\n"
     ]
    },
    {
     "name": "stderr",
     "output_type": "stream",
     "text": [
      "ERROR: Could not find a version that satisfies the requirement random\n",
      "ERROR: No matching distribution found for random\n"
     ]
    },
    {
     "name": "stdout",
     "output_type": "stream",
     "text": [
      "Requirement already satisfied: scipy in c:\\users\\sahil\\anaconda3\\lib\\site-packages (1.6.2)\n",
      "Requirement already satisfied: numpy<1.23.0,>=1.16.5 in c:\\users\\sahil\\anaconda3\\lib\\site-packages (from scipy) (1.19.5)\n",
      "Requirement already satisfied: seaborn in c:\\users\\sahil\\anaconda3\\lib\\site-packages (0.11.1)\n",
      "Requirement already satisfied: matplotlib>=2.2 in c:\\users\\sahil\\anaconda3\\lib\\site-packages (from seaborn) (3.3.4)\n",
      "Requirement already satisfied: numpy>=1.15 in c:\\users\\sahil\\anaconda3\\lib\\site-packages (from seaborn) (1.19.5)\n",
      "Requirement already satisfied: scipy>=1.0 in c:\\users\\sahil\\anaconda3\\lib\\site-packages (from seaborn) (1.6.2)\n",
      "Requirement already satisfied: pandas>=0.23 in c:\\users\\sahil\\anaconda3\\lib\\site-packages (from seaborn) (1.2.4)\n",
      "Requirement already satisfied: cycler>=0.10 in c:\\users\\sahil\\anaconda3\\lib\\site-packages (from matplotlib>=2.2->seaborn) (0.10.0)\n",
      "Requirement already satisfied: kiwisolver>=1.0.1 in c:\\users\\sahil\\anaconda3\\lib\\site-packages (from matplotlib>=2.2->seaborn) (1.3.1)\n",
      "Requirement already satisfied: pillow>=6.2.0 in c:\\users\\sahil\\anaconda3\\lib\\site-packages (from matplotlib>=2.2->seaborn) (8.2.0)\n",
      "Requirement already satisfied: pyparsing!=2.0.4,!=2.1.2,!=2.1.6,>=2.0.3 in c:\\users\\sahil\\anaconda3\\lib\\site-packages (from matplotlib>=2.2->seaborn) (2.4.7)\n",
      "Requirement already satisfied: python-dateutil>=2.1 in c:\\users\\sahil\\anaconda3\\lib\\site-packages (from matplotlib>=2.2->seaborn) (2.8.1)\n",
      "Requirement already satisfied: six in c:\\users\\sahil\\anaconda3\\lib\\site-packages (from cycler>=0.10->matplotlib>=2.2->seaborn) (1.15.0)\n",
      "Requirement already satisfied: pytz>=2017.3 in c:\\users\\sahil\\anaconda3\\lib\\site-packages (from pandas>=0.23->seaborn) (2021.1)\n",
      "Requirement already satisfied: names in c:\\users\\sahil\\anaconda3\\lib\\site-packages (0.3.0)\n"
     ]
    }
   ],
   "source": [
    "# essentials\n",
    "!pip install numpy\n",
    "!pip install pandas\n",
    "!pip install random\n",
    "!pip install scipy\n",
    "!pip install seaborn\n",
    "!pip install names"
   ]
  },
  {
   "cell_type": "markdown",
   "id": "9bfd8386",
   "metadata": {},
   "source": [
    "## Importing Libraries"
   ]
  },
  {
   "cell_type": "code",
   "execution_count": 1,
   "id": "82400365",
   "metadata": {},
   "outputs": [],
   "source": [
    "import random\n",
    "import pandas as pd\n",
    "import numpy as np\n",
    "import matplotlib.pyplot as plt\n",
    "import seaborn as sns\n",
    "import names\n",
    "from scipy import stats"
   ]
  },
  {
   "cell_type": "markdown",
   "id": "d2417ecf",
   "metadata": {},
   "source": [
    "## Generating Random Student name"
   ]
  },
  {
   "cell_type": "code",
   "execution_count": 2,
   "id": "35f146f0",
   "metadata": {},
   "outputs": [
    {
     "name": "stdout",
     "output_type": "stream",
     "text": [
      "Random Iterations: 612\n",
      "612 names inserted!\n"
     ]
    }
   ],
   "source": [
    "# We will use 'n' random iteration to define the size of our dataset which will be somewhere 250 to 1000 entries\n",
    "# This will ensure that each time the dataset generated will be different from the previous one\n",
    "# Hence making the code and output for each individual run a bit different from previous ones.\n",
    "\n",
    "random_iteration = random.randint(250,1000)\n",
    "print(\"Random Iterations: {}\".format(random_iteration))\n",
    "\n",
    "# The array 'student_name' will store randomly generated student names\n",
    "student_name = []\n",
    "for i in range(random_iteration):\n",
    "    student_first_name = names.get_first_name()    # Generate random first name of student\n",
    "    student_last_name = ' '+names.get_last_name()  # Generate random last name of student\n",
    "    \n",
    "    student_full_name = student_first_name + student_last_name  # Concatenate First and Last name\n",
    "    student_name.append(student_full_name)   # Append Full name into 'student_name' array\n",
    "    \n",
    "print(\"{} names inserted!\".format(len(student_name)))"
   ]
  },
  {
   "cell_type": "code",
   "execution_count": 3,
   "id": "7e569400",
   "metadata": {},
   "outputs": [],
   "source": [
    "# The array 'student_dept' will contain the department name to which student belongs\n",
    "\n",
    "student_dept = []\n",
    "department_options = ['ENTC', 'COMPUTER', 'MECHANICAL','COMPUTER']   # Student can only belong to these Departments\n",
    "# One may choose to add 'n' number of departments as per the requirements\n",
    "\n",
    "for i in range(random_iteration):\n",
    "    student_dept.append(random.choice(department_options))\n",
    "    # This bit of code chooses/assigns random department to student from available option (department_option)"
   ]
  },
  {
   "cell_type": "markdown",
   "id": "e4aeb662",
   "metadata": {},
   "source": [
    "## Generating Random Student Marks in Physics"
   ]
  },
  {
   "cell_type": "code",
   "execution_count": 4,
   "id": "366f53c3",
   "metadata": {},
   "outputs": [],
   "source": [
    "# The array 'student_marks_phy' holds marks for each individual student in Physics\n",
    "\n",
    "student_marks_phy = []\n",
    "for i in range(random_iteration):       # If random iterator decides to give 250 records, we insert 250 records only\n",
    "    random_chance = random.randint(0,3)\n",
    "    \n",
    "    if random_chance == 0:\n",
    "        random_chance_2 = random.randint(0,1)\n",
    "        if random_chance_2 == 0:\n",
    "            student_marks_phy.append(random.randint(1,35))\n",
    "        else:\n",
    "            student_marks_phy.append(np.NaN)\n",
    "\n",
    "    elif random_chance == 1:\n",
    "        student_marks_phy.append(random.randint(36,55))\n",
    "\n",
    "    elif random_chance == 2:\n",
    "        student_marks_phy.append(random.randint(56,75))\n",
    "\n",
    "    elif random_chance == 3:\n",
    "        student_marks_phy.append(random.randint(76,100))\n",
    "\n",
    "    else:\n",
    "        student_marks_phy.append(random.randint(0,100))\n",
    "        \n",
    "# The 'IF-ELSE' statements are self explanatory\n",
    "# There we randomly add NaN values to our dataset, since it's a requirement"
   ]
  },
  {
   "cell_type": "markdown",
   "id": "1e01d1a9",
   "metadata": {},
   "source": [
    "## Generating Random Student Marks in Maths"
   ]
  },
  {
   "cell_type": "code",
   "execution_count": 5,
   "id": "ffb6f682",
   "metadata": {},
   "outputs": [],
   "source": [
    "# The array 'student_marks_math' holds marks for each individual student in Mathematics\n",
    "\n",
    "student_marks_math = []\n",
    "for i in range(random_iteration):\n",
    "    random_chance = random.randint(0,3)\n",
    "    if random_chance == 0:\n",
    "        student_marks_math.append(random.randint(1,35))\n",
    "        \n",
    "    elif random_chance == 1:\n",
    "        random_chance_2 = random.randint(0,1)\n",
    "        if random_chance_2 == 0:\n",
    "            student_marks_math.append(round(random.uniform(35,55),1))\n",
    "        else:\n",
    "            student_marks_math.append(np.NaN)\n",
    "            \n",
    "    elif random_chance == 2:\n",
    "        student_marks_math.append(random.randint(56,75))\n",
    "\n",
    "    elif random_chance == 3:\n",
    "        student_marks_math.append(random.randint(76,100))\n",
    "\n",
    "    else:\n",
    "        student_marks_math.append(random.randint(0,100))"
   ]
  },
  {
   "cell_type": "markdown",
   "id": "5a5e8213",
   "metadata": {},
   "source": [
    "## Generating Random Student Marks in Chemistry"
   ]
  },
  {
   "cell_type": "code",
   "execution_count": 6,
   "id": "52be889e",
   "metadata": {},
   "outputs": [],
   "source": [
    "# The array 'student_marks_chem' holds marks for each individual student in Chemistry\n",
    "\n",
    "student_marks_chem = []\n",
    "for i in range(random_iteration):\n",
    "    random_chance = random.randint(0,3)\n",
    "    \n",
    "    if random_chance == 0:\n",
    "        student_marks_chem.append(random.randint(1,35))\n",
    "\n",
    "    elif random_chance == 1:\n",
    "        student_marks_chem.append(random.randint(36,55))\n",
    "\n",
    "    elif random_chance == 2:\n",
    "        student_marks_chem.append(round(random.uniform(56,75),1))\n",
    "\n",
    "    elif random_chance == 3:\n",
    "        random_chance_2 = random.randint(0,1)\n",
    "        if random_chance_2 == 0:\n",
    "            student_marks_chem.append(random.randint(76,100))\n",
    "        else:\n",
    "            student_marks_chem.append(random.randint(150,300))\n",
    "\n",
    "    else:\n",
    "        student_marks_chem.append(round(random.uniform(0,100),1))"
   ]
  },
  {
   "cell_type": "markdown",
   "id": "55a25796",
   "metadata": {},
   "source": [
    "## Generating Random Student Marks in AI"
   ]
  },
  {
   "cell_type": "code",
   "execution_count": 7,
   "id": "9e9fad37",
   "metadata": {},
   "outputs": [],
   "source": [
    "# # The array 'student_marks_ai' holds marks for each individual student in AI\n",
    "\n",
    "student_marks_ai = []\n",
    "for i in range(random_iteration):\n",
    "    random_chance = random.randint(0,3)\n",
    "    \n",
    "    if random_chance == 0:\n",
    "        student_marks_ai.append(round(random.uniform(1,35),1))\n",
    "\n",
    "    elif random_chance == 1:\n",
    "        random_chance_2 = random.randint(0,1)\n",
    "        if random_chance_2 == 0:\n",
    "            student_marks_ai.append(random.randint(36,55))\n",
    "        else:\n",
    "            student_marks_ai.append(np.NaN)\n",
    "\n",
    "    elif random_chance == 2:\n",
    "        student_marks_ai.append(random.randint(56,75))\n",
    "\n",
    "    elif random_chance == 3:\n",
    "        student_marks_ai.append(random.randint(76,100))\n",
    "\n",
    "    else:\n",
    "        student_marks_ai.append(round(random.uniform(0,100),1))"
   ]
  },
  {
   "cell_type": "markdown",
   "id": "e2d588d0",
   "metadata": {},
   "source": [
    "## Generating Random Student Term work marks"
   ]
  },
  {
   "cell_type": "code",
   "execution_count": 8,
   "id": "8f96c145",
   "metadata": {},
   "outputs": [],
   "source": [
    "# This array will hold student term work marks\n",
    "# This too will be randomly generated from the scale of 1-10\n",
    "\n",
    "student_term_work = []\n",
    "for i in range(random_iteration):\n",
    "    student_term_work.append(random.randint(1,10))"
   ]
  },
  {
   "cell_type": "markdown",
   "id": "18579aa7",
   "metadata": {},
   "source": [
    "## Generating Random Birthdate"
   ]
  },
  {
   "cell_type": "code",
   "execution_count": 9,
   "id": "9b1b407f",
   "metadata": {},
   "outputs": [],
   "source": [
    "# The array 'student_birthdate' will hold student DOB\n",
    "# The array 'possible_date' will contain all dates betwenn 2001-01-01 to 2003-12-31\n",
    "\n",
    "student_birthdate = []\n",
    "\n",
    "possible_date = []\n",
    "\n",
    "for year in range(1,4):   # Begin with year 2001, iterate till 2003\n",
    "    temp = []\n",
    "    for month in range (1,13):   # Begin with month 01, iterate till 12\n",
    "        if month != 2 and month%2==1:  # If month is not 2 and it belongs to 1,3,5... then it has 31 days\n",
    "            for days in range(1,31):\n",
    "                test = '200'+str(year)+'-'+str(month)+'-'+str(days)\n",
    "                possible_date.append(test)\n",
    "        elif month==2 and month%2==0:  # If month is 2 (FEB), add only 28 days\n",
    "            for days in range(1,29):\n",
    "                test = '200'+str(year)+'-'+str(month)+'-'+str(days)\n",
    "                possible_date.append(test)\n",
    "        else:    # Remaining months belonging to 4,6,8... will have 30 days\n",
    "            for days in range(1,31):\n",
    "                test = '200'+str(year)+'-'+str(month)+'-'+str(days)\n",
    "                possible_date.append(test)\n",
    "\n",
    "# The code below will choose a random date from 'possible_date' as DOB of student\n",
    "for i in range(random_iteration):\n",
    "    student_birthdate.append(random.choice(possible_date))"
   ]
  },
  {
   "cell_type": "markdown",
   "id": "8b0a3b0a",
   "metadata": {},
   "source": [
    "## Combining all values into 1 dictionary"
   ]
  },
  {
   "cell_type": "code",
   "execution_count": 10,
   "id": "addcd95e",
   "metadata": {},
   "outputs": [],
   "source": [
    "# Dictionay = {'column name': array values ... }\n",
    "\n",
    "finalized_dict = {'Student Name':student_name,\n",
    "                  'Department':student_dept,\n",
    "                 'Physics':student_marks_phy,\n",
    "                 'Mathematics':student_marks_math,\n",
    "                 'Chemistry':student_marks_chem,\n",
    "                 'AI':student_marks_ai,\n",
    "                 'Term Work':student_term_work,\n",
    "                 'DOB':student_birthdate}"
   ]
  },
  {
   "cell_type": "markdown",
   "id": "afa3a0de",
   "metadata": {},
   "source": [
    "## Converting Dictionary to CSV"
   ]
  },
  {
   "cell_type": "code",
   "execution_count": 11,
   "id": "1dc1f4cf",
   "metadata": {},
   "outputs": [],
   "source": [
    "# We can also choose to save this dictionary as CSV and then work on the CSV\n",
    "# Rather we choose to convert dictionary directly to dataframe, hence saving disk space and hasle\n",
    "\n",
    "df = pd.DataFrame.from_dict(finalized_dict)\n",
    "\n",
    "# Saving dataframe as csv\n",
    "df.to_csv('Academic Performance.csv')\n",
    "\n",
    "# The CSV file will be saved in the same directory where the source code belongs"
   ]
  },
  {
   "cell_type": "markdown",
   "id": "d4207b3d",
   "metadata": {},
   "source": [
    "# Part-II Exploring Dataset"
   ]
  },
  {
   "cell_type": "markdown",
   "id": "05ae7926",
   "metadata": {},
   "source": [
    "## Displaying our dataframe"
   ]
  },
  {
   "cell_type": "code",
   "execution_count": 12,
   "id": "e7a0043a",
   "metadata": {},
   "outputs": [
    {
     "data": {
      "text/html": [
       "<div>\n",
       "<style scoped>\n",
       "    .dataframe tbody tr th:only-of-type {\n",
       "        vertical-align: middle;\n",
       "    }\n",
       "\n",
       "    .dataframe tbody tr th {\n",
       "        vertical-align: top;\n",
       "    }\n",
       "\n",
       "    .dataframe thead th {\n",
       "        text-align: right;\n",
       "    }\n",
       "</style>\n",
       "<table border=\"1\" class=\"dataframe\">\n",
       "  <thead>\n",
       "    <tr style=\"text-align: right;\">\n",
       "      <th></th>\n",
       "      <th>Student Name</th>\n",
       "      <th>Department</th>\n",
       "      <th>Physics</th>\n",
       "      <th>Mathematics</th>\n",
       "      <th>Chemistry</th>\n",
       "      <th>AI</th>\n",
       "      <th>Term Work</th>\n",
       "      <th>DOB</th>\n",
       "    </tr>\n",
       "  </thead>\n",
       "  <tbody>\n",
       "    <tr>\n",
       "      <th>0</th>\n",
       "      <td>Dorothy Brodt</td>\n",
       "      <td>COMPUTER</td>\n",
       "      <td>28.0</td>\n",
       "      <td>79.0</td>\n",
       "      <td>84.0</td>\n",
       "      <td>62.0</td>\n",
       "      <td>2</td>\n",
       "      <td>2003-6-17</td>\n",
       "    </tr>\n",
       "    <tr>\n",
       "      <th>1</th>\n",
       "      <td>James Williams</td>\n",
       "      <td>MECHANICAL</td>\n",
       "      <td>46.0</td>\n",
       "      <td>79.0</td>\n",
       "      <td>31.0</td>\n",
       "      <td>85.0</td>\n",
       "      <td>1</td>\n",
       "      <td>2003-12-21</td>\n",
       "    </tr>\n",
       "    <tr>\n",
       "      <th>2</th>\n",
       "      <td>Lynn Emerson</td>\n",
       "      <td>COMPUTER</td>\n",
       "      <td>NaN</td>\n",
       "      <td>62.0</td>\n",
       "      <td>74.9</td>\n",
       "      <td>3.2</td>\n",
       "      <td>6</td>\n",
       "      <td>2002-9-21</td>\n",
       "    </tr>\n",
       "    <tr>\n",
       "      <th>3</th>\n",
       "      <td>Aaron Pelosi</td>\n",
       "      <td>ENTC</td>\n",
       "      <td>48.0</td>\n",
       "      <td>90.0</td>\n",
       "      <td>61.2</td>\n",
       "      <td>29.0</td>\n",
       "      <td>10</td>\n",
       "      <td>2001-4-27</td>\n",
       "    </tr>\n",
       "    <tr>\n",
       "      <th>4</th>\n",
       "      <td>Connie Grothe</td>\n",
       "      <td>MECHANICAL</td>\n",
       "      <td>60.0</td>\n",
       "      <td>89.0</td>\n",
       "      <td>234.0</td>\n",
       "      <td>97.0</td>\n",
       "      <td>3</td>\n",
       "      <td>2003-1-25</td>\n",
       "    </tr>\n",
       "    <tr>\n",
       "      <th>...</th>\n",
       "      <td>...</td>\n",
       "      <td>...</td>\n",
       "      <td>...</td>\n",
       "      <td>...</td>\n",
       "      <td>...</td>\n",
       "      <td>...</td>\n",
       "      <td>...</td>\n",
       "      <td>...</td>\n",
       "    </tr>\n",
       "    <tr>\n",
       "      <th>607</th>\n",
       "      <td>John Schiffer</td>\n",
       "      <td>COMPUTER</td>\n",
       "      <td>36.0</td>\n",
       "      <td>17.0</td>\n",
       "      <td>34.0</td>\n",
       "      <td>31.4</td>\n",
       "      <td>3</td>\n",
       "      <td>2003-7-10</td>\n",
       "    </tr>\n",
       "    <tr>\n",
       "      <th>608</th>\n",
       "      <td>Cheryl Mendenhall</td>\n",
       "      <td>MECHANICAL</td>\n",
       "      <td>86.0</td>\n",
       "      <td>NaN</td>\n",
       "      <td>66.8</td>\n",
       "      <td>NaN</td>\n",
       "      <td>4</td>\n",
       "      <td>2003-3-10</td>\n",
       "    </tr>\n",
       "    <tr>\n",
       "      <th>609</th>\n",
       "      <td>James Wahba</td>\n",
       "      <td>ENTC</td>\n",
       "      <td>68.0</td>\n",
       "      <td>21.0</td>\n",
       "      <td>63.2</td>\n",
       "      <td>59.0</td>\n",
       "      <td>1</td>\n",
       "      <td>2002-9-3</td>\n",
       "    </tr>\n",
       "    <tr>\n",
       "      <th>610</th>\n",
       "      <td>Jesus Adams</td>\n",
       "      <td>COMPUTER</td>\n",
       "      <td>NaN</td>\n",
       "      <td>79.0</td>\n",
       "      <td>60.8</td>\n",
       "      <td>85.0</td>\n",
       "      <td>6</td>\n",
       "      <td>2001-10-20</td>\n",
       "    </tr>\n",
       "    <tr>\n",
       "      <th>611</th>\n",
       "      <td>Philip Allah</td>\n",
       "      <td>COMPUTER</td>\n",
       "      <td>57.0</td>\n",
       "      <td>100.0</td>\n",
       "      <td>150.0</td>\n",
       "      <td>75.0</td>\n",
       "      <td>7</td>\n",
       "      <td>2001-7-7</td>\n",
       "    </tr>\n",
       "  </tbody>\n",
       "</table>\n",
       "<p>612 rows × 8 columns</p>\n",
       "</div>"
      ],
      "text/plain": [
       "          Student Name  Department  Physics  Mathematics  Chemistry    AI  \\\n",
       "0        Dorothy Brodt    COMPUTER     28.0         79.0       84.0  62.0   \n",
       "1       James Williams  MECHANICAL     46.0         79.0       31.0  85.0   \n",
       "2         Lynn Emerson    COMPUTER      NaN         62.0       74.9   3.2   \n",
       "3         Aaron Pelosi        ENTC     48.0         90.0       61.2  29.0   \n",
       "4        Connie Grothe  MECHANICAL     60.0         89.0      234.0  97.0   \n",
       "..                 ...         ...      ...          ...        ...   ...   \n",
       "607      John Schiffer    COMPUTER     36.0         17.0       34.0  31.4   \n",
       "608  Cheryl Mendenhall  MECHANICAL     86.0          NaN       66.8   NaN   \n",
       "609        James Wahba        ENTC     68.0         21.0       63.2  59.0   \n",
       "610        Jesus Adams    COMPUTER      NaN         79.0       60.8  85.0   \n",
       "611       Philip Allah    COMPUTER     57.0        100.0      150.0  75.0   \n",
       "\n",
       "     Term Work         DOB  \n",
       "0            2   2003-6-17  \n",
       "1            1  2003-12-21  \n",
       "2            6   2002-9-21  \n",
       "3           10   2001-4-27  \n",
       "4            3   2003-1-25  \n",
       "..         ...         ...  \n",
       "607          3   2003-7-10  \n",
       "608          4   2003-3-10  \n",
       "609          1    2002-9-3  \n",
       "610          6  2001-10-20  \n",
       "611          7    2001-7-7  \n",
       "\n",
       "[612 rows x 8 columns]"
      ]
     },
     "execution_count": 12,
     "metadata": {},
     "output_type": "execute_result"
    }
   ],
   "source": [
    "df\n",
    "# We can also use print(df) or display(df)"
   ]
  },
  {
   "cell_type": "markdown",
   "id": "68c79357",
   "metadata": {},
   "source": [
    "**This is our dataset on which we will be working on.**"
   ]
  },
  {
   "cell_type": "code",
   "execution_count": 13,
   "id": "00352ab6",
   "metadata": {},
   "outputs": [
    {
     "name": "stdout",
     "output_type": "stream",
     "text": [
      "<class 'pandas.core.frame.DataFrame'>\n",
      "RangeIndex: 612 entries, 0 to 611\n",
      "Data columns (total 8 columns):\n",
      " #   Column        Non-Null Count  Dtype  \n",
      "---  ------        --------------  -----  \n",
      " 0   Student Name  612 non-null    object \n",
      " 1   Department    612 non-null    object \n",
      " 2   Physics       530 non-null    float64\n",
      " 3   Mathematics   538 non-null    float64\n",
      " 4   Chemistry     612 non-null    float64\n",
      " 5   AI            529 non-null    float64\n",
      " 6   Term Work     612 non-null    int64  \n",
      " 7   DOB           612 non-null    object \n",
      "dtypes: float64(4), int64(1), object(3)\n",
      "memory usage: 38.4+ KB\n"
     ]
    }
   ],
   "source": [
    "# Displaying info of our dataset\n",
    "\n",
    "df.info()"
   ]
  },
  {
   "cell_type": "code",
   "execution_count": 14,
   "id": "04f57e22",
   "metadata": {},
   "outputs": [
    {
     "data": {
      "text/html": [
       "<div>\n",
       "<style scoped>\n",
       "    .dataframe tbody tr th:only-of-type {\n",
       "        vertical-align: middle;\n",
       "    }\n",
       "\n",
       "    .dataframe tbody tr th {\n",
       "        vertical-align: top;\n",
       "    }\n",
       "\n",
       "    .dataframe thead th {\n",
       "        text-align: right;\n",
       "    }\n",
       "</style>\n",
       "<table border=\"1\" class=\"dataframe\">\n",
       "  <thead>\n",
       "    <tr style=\"text-align: right;\">\n",
       "      <th></th>\n",
       "      <th>Physics</th>\n",
       "      <th>Mathematics</th>\n",
       "      <th>Chemistry</th>\n",
       "      <th>AI</th>\n",
       "      <th>Term Work</th>\n",
       "    </tr>\n",
       "  </thead>\n",
       "  <tbody>\n",
       "    <tr>\n",
       "      <th>count</th>\n",
       "      <td>530.000000</td>\n",
       "      <td>538.000000</td>\n",
       "      <td>612.000000</td>\n",
       "      <td>529.000000</td>\n",
       "      <td>612.000000</td>\n",
       "    </tr>\n",
       "    <tr>\n",
       "      <th>mean</th>\n",
       "      <td>58.400000</td>\n",
       "      <td>54.522119</td>\n",
       "      <td>76.157843</td>\n",
       "      <td>55.759546</td>\n",
       "      <td>5.511438</td>\n",
       "    </tr>\n",
       "    <tr>\n",
       "      <th>std</th>\n",
       "      <td>25.374443</td>\n",
       "      <td>29.222827</td>\n",
       "      <td>69.053881</td>\n",
       "      <td>28.242811</td>\n",
       "      <td>2.874608</td>\n",
       "    </tr>\n",
       "    <tr>\n",
       "      <th>min</th>\n",
       "      <td>1.000000</td>\n",
       "      <td>1.000000</td>\n",
       "      <td>1.000000</td>\n",
       "      <td>1.400000</td>\n",
       "      <td>1.000000</td>\n",
       "    </tr>\n",
       "    <tr>\n",
       "      <th>25%</th>\n",
       "      <td>41.000000</td>\n",
       "      <td>29.000000</td>\n",
       "      <td>36.750000</td>\n",
       "      <td>31.400000</td>\n",
       "      <td>3.000000</td>\n",
       "    </tr>\n",
       "    <tr>\n",
       "      <th>50%</th>\n",
       "      <td>60.000000</td>\n",
       "      <td>59.000000</td>\n",
       "      <td>57.800000</td>\n",
       "      <td>61.000000</td>\n",
       "      <td>6.000000</td>\n",
       "    </tr>\n",
       "    <tr>\n",
       "      <th>75%</th>\n",
       "      <td>78.750000</td>\n",
       "      <td>79.000000</td>\n",
       "      <td>80.000000</td>\n",
       "      <td>79.000000</td>\n",
       "      <td>8.000000</td>\n",
       "    </tr>\n",
       "    <tr>\n",
       "      <th>max</th>\n",
       "      <td>100.000000</td>\n",
       "      <td>100.000000</td>\n",
       "      <td>294.000000</td>\n",
       "      <td>100.000000</td>\n",
       "      <td>10.000000</td>\n",
       "    </tr>\n",
       "  </tbody>\n",
       "</table>\n",
       "</div>"
      ],
      "text/plain": [
       "          Physics  Mathematics   Chemistry          AI   Term Work\n",
       "count  530.000000   538.000000  612.000000  529.000000  612.000000\n",
       "mean    58.400000    54.522119   76.157843   55.759546    5.511438\n",
       "std     25.374443    29.222827   69.053881   28.242811    2.874608\n",
       "min      1.000000     1.000000    1.000000    1.400000    1.000000\n",
       "25%     41.000000    29.000000   36.750000   31.400000    3.000000\n",
       "50%     60.000000    59.000000   57.800000   61.000000    6.000000\n",
       "75%     78.750000    79.000000   80.000000   79.000000    8.000000\n",
       "max    100.000000   100.000000  294.000000  100.000000   10.000000"
      ]
     },
     "execution_count": 14,
     "metadata": {},
     "output_type": "execute_result"
    }
   ],
   "source": [
    "# Desribing information of our dataset\n",
    "# Here the columns with int or float values will be displayed\n",
    "\n",
    "df.describe()"
   ]
  },
  {
   "cell_type": "markdown",
   "id": "6ce0a032",
   "metadata": {},
   "source": [
    "## Finding missing or Null values"
   ]
  },
  {
   "cell_type": "code",
   "execution_count": 15,
   "id": "a15bcd82",
   "metadata": {},
   "outputs": [
    {
     "data": {
      "text/plain": [
       "Student Name     0\n",
       "Department       0\n",
       "Physics         82\n",
       "Mathematics     74\n",
       "Chemistry        0\n",
       "AI              83\n",
       "Term Work        0\n",
       "DOB              0\n",
       "dtype: int64"
      ]
     },
     "execution_count": 15,
     "metadata": {},
     "output_type": "execute_result"
    }
   ],
   "source": [
    "# Find count of missing values from our dataset\n",
    "# Remember that we delibrately inserted some NaN values, so there has to be some Missing/NULL values\n",
    "# The count of missing values will vary from run to run\n",
    "\n",
    "df.isnull().sum()"
   ]
  },
  {
   "cell_type": "markdown",
   "id": "d5136bdf",
   "metadata": {},
   "source": [
    "## Treating Null values"
   ]
  },
  {
   "cell_type": "code",
   "execution_count": 16,
   "id": "7f01847f",
   "metadata": {},
   "outputs": [],
   "source": [
    "# Fill the NULL values with the mean of each column\n",
    "# Here we fill the Missing/NULL with mean of that column\n",
    "# Only the column Chemistry (int) does not have any kind of missing values, hence we skip it\n",
    "\n",
    "df['Physics'].fillna(value=df['Physics'].mean(), inplace=True)\n",
    "df['Mathematics'].fillna(value=df['Mathematics'].mean(), inplace=True)\n",
    "df['AI'].fillna(value=df['AI'].mean(), inplace=True)"
   ]
  },
  {
   "cell_type": "markdown",
   "id": "a52e66d4",
   "metadata": {},
   "source": [
    "## Checking for any residual Null values"
   ]
  },
  {
   "cell_type": "code",
   "execution_count": 17,
   "id": "e4d389d7",
   "metadata": {},
   "outputs": [
    {
     "data": {
      "text/plain": [
       "Student Name    0\n",
       "Department      0\n",
       "Physics         0\n",
       "Mathematics     0\n",
       "Chemistry       0\n",
       "AI              0\n",
       "Term Work       0\n",
       "DOB             0\n",
       "dtype: int64"
      ]
     },
     "execution_count": 17,
     "metadata": {},
     "output_type": "execute_result"
    }
   ],
   "source": [
    "# Re-checking for any remaining Missing/NULL values or leftovers\n",
    "\n",
    "df.isnull().sum()"
   ]
  },
  {
   "cell_type": "markdown",
   "id": "962f963a",
   "metadata": {},
   "source": [
    "**The dataset is now cleaned and free from any kind of NULL values.**"
   ]
  },
  {
   "cell_type": "markdown",
   "id": "4d60984f",
   "metadata": {},
   "source": [
    "## Detecting any Outliers"
   ]
  },
  {
   "cell_type": "markdown",
   "id": "6e9c4a62",
   "metadata": {},
   "source": [
    "**Outliers are the data entries that are far beyond our IQR<br>**\n",
    "**IQR (Inter-Quartile-Range): It is the range between absolute lower bound and upper bound of the class.**<br>\n",
    "For instance marks for any subject will always be between 0 to 100. If marks are beyond 100 or below 0 (i.e. Negative) we can call them as outliers for our dataset since they don't seem to follow our criteria. Outliers can cause our model to be misleaded by false values, hence outlier treatment is very important.<br>\n",
    "To treat an outlier we simply need to remove it, since they cannot be scaled down or scaled up by any means.<br><br>\n",
    "**How to find outliers?**<br>\n",
    "1. Box Plots\n",
    "2. Scatter Plots\n",
    "3. Box-Whiskers Plots (Uncommon)"
   ]
  },
  {
   "cell_type": "code",
   "execution_count": 18,
   "id": "8f08323a",
   "metadata": {},
   "outputs": [
    {
     "name": "stderr",
     "output_type": "stream",
     "text": [
      "C:\\Users\\sahil\\anaconda3\\lib\\site-packages\\seaborn\\_decorators.py:36: FutureWarning: Pass the following variable as a keyword arg: x. From version 0.12, the only valid positional argument will be `data`, and passing other arguments without an explicit keyword will result in an error or misinterpretation.\n",
      "  warnings.warn(\n"
     ]
    },
    {
     "data": {
      "text/plain": [
       "<AxesSubplot:xlabel='Physics'>"
      ]
     },
     "execution_count": 18,
     "metadata": {},
     "output_type": "execute_result"
    },
    {
     "data": {
      "image/png": "[encoded data removed]",
      "text/plain": [
       "<Figure size 432x288 with 1 Axes>"
      ]
     },
     "metadata": {
      "needs_background": "light"
     },
     "output_type": "display_data"
    }
   ],
   "source": [
    "# Finding outliers in Physics\n",
    "\n",
    "sns.boxplot(df['Physics'])"
   ]
  },
  {
   "cell_type": "code",
   "execution_count": 19,
   "id": "614a8caa",
   "metadata": {},
   "outputs": [
    {
     "name": "stderr",
     "output_type": "stream",
     "text": [
      "C:\\Users\\sahil\\anaconda3\\lib\\site-packages\\seaborn\\_decorators.py:36: FutureWarning: Pass the following variable as a keyword arg: x. From version 0.12, the only valid positional argument will be `data`, and passing other arguments without an explicit keyword will result in an error or misinterpretation.\n",
      "  warnings.warn(\n"
     ]
    },
    {
     "data": {
      "text/plain": [
       "<AxesSubplot:xlabel='Mathematics'>"
      ]
     },
     "execution_count": 19,
     "metadata": {},
     "output_type": "execute_result"
    },
    {
     "data": {
      "image/png": "[encoded data removed]",
      "text/plain": [
       "<Figure size 432x288 with 1 Axes>"
      ]
     },
     "metadata": {
      "needs_background": "light"
     },
     "output_type": "display_data"
    }
   ],
   "source": [
    "# Finding outliers in Mathematics\n",
    "\n",
    "sns.boxplot(df['Mathematics'])"
   ]
  },
  {
   "cell_type": "code",
   "execution_count": 20,
   "id": "e0405132",
   "metadata": {},
   "outputs": [
    {
     "name": "stderr",
     "output_type": "stream",
     "text": [
      "C:\\Users\\sahil\\anaconda3\\lib\\site-packages\\seaborn\\_decorators.py:36: FutureWarning: Pass the following variable as a keyword arg: x. From version 0.12, the only valid positional argument will be `data`, and passing other arguments without an explicit keyword will result in an error or misinterpretation.\n",
      "  warnings.warn(\n"
     ]
    },
    {
     "data": {
      "text/plain": [
       "<AxesSubplot:xlabel='Chemistry'>"
      ]
     },
     "execution_count": 20,
     "metadata": {},
     "output_type": "execute_result"
    },
    {
     "data": {
      "image/png": "[encoded data removed]",
      "text/plain": [
       "<Figure size 432x288 with 1 Axes>"
      ]
     },
     "metadata": {
      "needs_background": "light"
     },
     "output_type": "display_data"
    }
   ],
   "source": [
    "# Finding outliers in Chemistry\n",
    "\n",
    "sns.boxplot(df['Chemistry'])"
   ]
  },
  {
   "cell_type": "code",
   "execution_count": 21,
   "id": "e01e3d5a",
   "metadata": {},
   "outputs": [
    {
     "name": "stderr",
     "output_type": "stream",
     "text": [
      "C:\\Users\\sahil\\anaconda3\\lib\\site-packages\\seaborn\\_decorators.py:36: FutureWarning: Pass the following variable as a keyword arg: x. From version 0.12, the only valid positional argument will be `data`, and passing other arguments without an explicit keyword will result in an error or misinterpretation.\n",
      "  warnings.warn(\n"
     ]
    },
    {
     "data": {
      "text/plain": [
       "<AxesSubplot:xlabel='AI'>"
      ]
     },
     "execution_count": 21,
     "metadata": {},
     "output_type": "execute_result"
    },
    {
     "data": {
      "image/png": "[encoded data removed]",
      "text/plain": [
       "<Figure size 432x288 with 1 Axes>"
      ]
     },
     "metadata": {
      "needs_background": "light"
     },
     "output_type": "display_data"
    }
   ],
   "source": [
    "# Finding outliers in AI\n",
    "\n",
    "sns.boxplot(df['AI'])"
   ]
  },
  {
   "cell_type": "markdown",
   "id": "d17db66f",
   "metadata": {},
   "source": [
    "**There are outliers only in Chemistry, rest contains no outliers.**"
   ]
  },
  {
   "cell_type": "markdown",
   "id": "4c210818",
   "metadata": {},
   "source": [
    "## Treating Outliers of Physics using IQR"
   ]
  },
  {
   "cell_type": "code",
   "execution_count": 22,
   "id": "07c87545",
   "metadata": {},
   "outputs": [
    {
     "name": "stdout",
     "output_type": "stream",
     "text": [
      "Old Shape of Dataset: (612, 8)\n",
      "New Shape of Dataset: (612, 8)\n"
     ]
    }
   ],
   "source": [
    "# Note: If there is any warnings/errors in this bit of code, just re-run from the start, EVERYTHNG!\n",
    "\n",
    "Q1 = np.percentile(df['Physics'], 25, interpolation = 'midpoint')\n",
    "Q3 = np.percentile(df['Physics'], 75, interpolation = 'midpoint')\n",
    "IQR = Q3 - Q1\n",
    "\n",
    "print(\"Old Shape of Dataset: {}\".format(df.shape))\n",
    "\n",
    "# Upper bound\n",
    "upper = np.where(df['Physics'] >= (Q3+1.5*IQR))\n",
    "\n",
    "# Lower bound\n",
    "lower = np.where(df['Physics'] <= (Q1-1.5*IQR))\n",
    "\n",
    "df.drop(upper[0], inplace = True)\n",
    "df.drop(lower[0], inplace = True)\n",
    " \n",
    "print(\"New Shape of Dataset: {}\".format(df.shape))"
   ]
  },
  {
   "cell_type": "markdown",
   "id": "ffa64d1f",
   "metadata": {},
   "source": [
    "## Treating Outliers of Mathematics using IQR"
   ]
  },
  {
   "cell_type": "code",
   "execution_count": 23,
   "id": "0c86b0ea",
   "metadata": {},
   "outputs": [
    {
     "name": "stdout",
     "output_type": "stream",
     "text": [
      "Old Shape of Dataset: (612, 8)\n",
      "New Shape of Dataset: (612, 8)\n"
     ]
    }
   ],
   "source": [
    "# Note: If there is any warnings/errors in this bit of code, just re-run from the start, EVERYTHNG!\n",
    "\n",
    "Q1 = np.percentile(df['Mathematics'], 25, interpolation = 'midpoint')\n",
    "Q3 = np.percentile(df['Mathematics'], 75, interpolation = 'midpoint')\n",
    "IQR = Q3 - Q1\n",
    "\n",
    "print(\"Old Shape of Dataset: {}\".format(df.shape))\n",
    "\n",
    "# Upper bound\n",
    "upper = np.where(df['Mathematics'] >= (Q3+1.5*IQR))\n",
    "\n",
    "# Lower bound\n",
    "lower = np.where(df['Mathematics'] <= (Q1-1.5*IQR))\n",
    "\n",
    "df.drop(upper[0], inplace = True)\n",
    "df.drop(lower[0], inplace = True)\n",
    " \n",
    "print(\"New Shape of Dataset: {}\".format(df.shape))"
   ]
  },
  {
   "cell_type": "markdown",
   "id": "9023a484",
   "metadata": {},
   "source": [
    "## Treating Outliers of Chemistry using IQR"
   ]
  },
  {
   "cell_type": "code",
   "execution_count": 24,
   "id": "10f0534f",
   "metadata": {},
   "outputs": [
    {
     "name": "stdout",
     "output_type": "stream",
     "text": [
      "Old Shape of Dataset: (612, 8)\n",
      "New Shape of Dataset: (520, 8)\n"
     ]
    }
   ],
   "source": [
    "# Note: If there is any warnings/errors in this bit of code, just re-run from the start, EVERYTHNG!\n",
    "\n",
    "Q1 = np.percentile(df['Chemistry'], 25, interpolation = 'midpoint')\n",
    "Q3 = np.percentile(df['Chemistry'], 75, interpolation = 'midpoint')\n",
    "IQR = Q3 - Q1\n",
    "\n",
    "print(\"Old Shape of Dataset: {}\".format(df.shape))\n",
    "\n",
    "# Upper bound\n",
    "upper = np.where(df['Chemistry'] >= (Q3+1.5*IQR))\n",
    "\n",
    "# Lower bound\n",
    "lower = np.where(df['Chemistry'] <= (Q1-1.5*IQR))\n",
    "\n",
    "df.drop(upper[0], inplace = True)\n",
    "df.drop(lower[0], inplace = True)\n",
    " \n",
    "print(\"New Shape of Dataset: {}\".format(df.shape))"
   ]
  },
  {
   "cell_type": "markdown",
   "id": "2c81bd97",
   "metadata": {},
   "source": [
    "## Treating Outliers of AI using IQR"
   ]
  },
  {
   "cell_type": "code",
   "execution_count": 25,
   "id": "7f436d08",
   "metadata": {},
   "outputs": [
    {
     "name": "stdout",
     "output_type": "stream",
     "text": [
      "Old Shape of Dataset: (520, 8)\n",
      "New Shape of Dataset: (520, 8)\n"
     ]
    }
   ],
   "source": [
    "# Note: If there is any warnings/errors in this bit of code, just re-run from the start, EVERYTHNG!\n",
    "\n",
    "Q1 = np.percentile(df['AI'], 25, interpolation = 'midpoint')\n",
    "Q3 = np.percentile(df['AI'], 75, interpolation = 'midpoint')\n",
    "IQR = Q3 - Q1\n",
    "\n",
    "print(\"Old Shape of Dataset: {}\".format(df.shape))\n",
    "\n",
    "# Upper bound\n",
    "upper = np.where(df['AI'] >= (Q3+1.5*IQR))\n",
    "\n",
    "# Lower bound\n",
    "lower = np.where(df['AI'] <= (Q1-1.5*IQR))\n",
    "\n",
    "df.drop(upper[0], inplace = True)\n",
    "df.drop(lower[0], inplace = True)\n",
    " \n",
    "print(\"New Shape of Dataset: {}\".format(df.shape))"
   ]
  },
  {
   "cell_type": "markdown",
   "id": "162d5bec",
   "metadata": {},
   "source": [
    "## Re-Checking for any outliers"
   ]
  },
  {
   "cell_type": "code",
   "execution_count": 26,
   "id": "878cf8a0",
   "metadata": {},
   "outputs": [
    {
     "name": "stderr",
     "output_type": "stream",
     "text": [
      "C:\\Users\\sahil\\anaconda3\\lib\\site-packages\\seaborn\\_decorators.py:36: FutureWarning: Pass the following variable as a keyword arg: x. From version 0.12, the only valid positional argument will be `data`, and passing other arguments without an explicit keyword will result in an error or misinterpretation.\n",
      "  warnings.warn(\n"
     ]
    },
    {
     "data": {
      "text/plain": [
       "<AxesSubplot:xlabel='Physics'>"
      ]
     },
     "execution_count": 26,
     "metadata": {},
     "output_type": "execute_result"
    },
    {
     "data": {
      "image/png": "[encoded data removed]",
      "text/plain": [
       "<Figure size 432x288 with 1 Axes>"
      ]
     },
     "metadata": {
      "needs_background": "light"
     },
     "output_type": "display_data"
    }
   ],
   "source": [
    "# Finding outliers in Physics\n",
    "\n",
    "sns.boxplot(df['Physics'])"
   ]
  },
  {
   "cell_type": "code",
   "execution_count": 27,
   "id": "a578c72c",
   "metadata": {},
   "outputs": [
    {
     "name": "stderr",
     "output_type": "stream",
     "text": [
      "C:\\Users\\sahil\\anaconda3\\lib\\site-packages\\seaborn\\_decorators.py:36: FutureWarning: Pass the following variable as a keyword arg: x. From version 0.12, the only valid positional argument will be `data`, and passing other arguments without an explicit keyword will result in an error or misinterpretation.\n",
      "  warnings.warn(\n"
     ]
    },
    {
     "data": {
      "text/plain": [
       "<AxesSubplot:xlabel='Mathematics'>"
      ]
     },
     "execution_count": 27,
     "metadata": {},
     "output_type": "execute_result"
    },
    {
     "data": {
      "image/png": "[encoded data removed]",
      "text/plain": [
       "<Figure size 432x288 with 1 Axes>"
      ]
     },
     "metadata": {
      "needs_background": "light"
     },
     "output_type": "display_data"
    }
   ],
   "source": [
    "# Finding outliers in Mathematics\n",
    "\n",
    "sns.boxplot(df['Mathematics'])"
   ]
  },
  {
   "cell_type": "code",
   "execution_count": 28,
   "id": "b5306326",
   "metadata": {},
   "outputs": [
    {
     "name": "stderr",
     "output_type": "stream",
     "text": [
      "C:\\Users\\sahil\\anaconda3\\lib\\site-packages\\seaborn\\_decorators.py:36: FutureWarning: Pass the following variable as a keyword arg: x. From version 0.12, the only valid positional argument will be `data`, and passing other arguments without an explicit keyword will result in an error or misinterpretation.\n",
      "  warnings.warn(\n"
     ]
    },
    {
     "data": {
      "text/plain": [
       "<AxesSubplot:xlabel='Chemistry'>"
      ]
     },
     "execution_count": 28,
     "metadata": {},
     "output_type": "execute_result"
    },
    {
     "data": {
      "image/png": "[encoded data removed]",
      "text/plain": [
       "<Figure size 432x288 with 1 Axes>"
      ]
     },
     "metadata": {
      "needs_background": "light"
     },
     "output_type": "display_data"
    }
   ],
   "source": [
    "# Finding outliers in Chemistry\n",
    "\n",
    "sns.boxplot(df['Chemistry'])"
   ]
  },
  {
   "cell_type": "code",
   "execution_count": 29,
   "id": "df6cee0d",
   "metadata": {},
   "outputs": [
    {
     "name": "stderr",
     "output_type": "stream",
     "text": [
      "C:\\Users\\sahil\\anaconda3\\lib\\site-packages\\seaborn\\_decorators.py:36: FutureWarning: Pass the following variable as a keyword arg: x. From version 0.12, the only valid positional argument will be `data`, and passing other arguments without an explicit keyword will result in an error or misinterpretation.\n",
      "  warnings.warn(\n"
     ]
    },
    {
     "data": {
      "text/plain": [
       "<AxesSubplot:xlabel='AI'>"
      ]
     },
     "execution_count": 29,
     "metadata": {},
     "output_type": "execute_result"
    },
    {
     "data": {
      "image/png": "[encoded data removed]",
      "text/plain": [
       "<Figure size 432x288 with 1 Axes>"
      ]
     },
     "metadata": {
      "needs_background": "light"
     },
     "output_type": "display_data"
    }
   ],
   "source": [
    "# Finding outliers in AI\n",
    "\n",
    "sns.boxplot(df['AI'])"
   ]
  },
  {
   "cell_type": "markdown",
   "id": "8bd5f712",
   "metadata": {},
   "source": [
    "**The plots above shows that there are absolutely no outliers left.**"
   ]
  },
  {
   "cell_type": "markdown",
   "id": "6c558d23",
   "metadata": {},
   "source": [
    "# Part-III Data Transformation\n",
    "### Data Transformation increases the read-ability of any column\n",
    "**Here we choose to transform the 'DOB' column and break it down into 'Birth_Year' and 'Birth_Month'.**"
   ]
  },
  {
   "cell_type": "code",
   "execution_count": 30,
   "id": "3c431677",
   "metadata": {},
   "outputs": [],
   "source": [
    "# If you re-call the Dtype of 'DOB' column, then you may know that it is of type Object\n",
    "# A date cannot be interpreted correctly as object\n",
    "# So here we convert it's type from Object to Datetime\n",
    "\n",
    "df['DOB'] =  pd.to_datetime(df['DOB'])"
   ]
  },
  {
   "cell_type": "code",
   "execution_count": 31,
   "id": "c0089531",
   "metadata": {},
   "outputs": [
    {
     "name": "stdout",
     "output_type": "stream",
     "text": [
      "<class 'pandas.core.frame.DataFrame'>\n",
      "Int64Index: 520 entries, 0 to 610\n",
      "Data columns (total 8 columns):\n",
      " #   Column        Non-Null Count  Dtype         \n",
      "---  ------        --------------  -----         \n",
      " 0   Student Name  520 non-null    object        \n",
      " 1   Department    520 non-null    object        \n",
      " 2   Physics       520 non-null    float64       \n",
      " 3   Mathematics   520 non-null    float64       \n",
      " 4   Chemistry     520 non-null    float64       \n",
      " 5   AI            520 non-null    float64       \n",
      " 6   Term Work     520 non-null    int64         \n",
      " 7   DOB           520 non-null    datetime64[ns]\n",
      "dtypes: datetime64[ns](1), float64(4), int64(1), object(2)\n",
      "memory usage: 52.7+ KB\n"
     ]
    }
   ],
   "source": [
    "# Here you can check the Dtype of 7th Row (DOB), it will be converted datetime65[ns]\n",
    "\n",
    "df.info()"
   ]
  },
  {
   "cell_type": "code",
   "execution_count": 32,
   "id": "512bd936",
   "metadata": {},
   "outputs": [],
   "source": [
    "df['Birth_Year'] = pd.DatetimeIndex(df['DOB']).year   # Used to extract year from datetime65[ns] entity\n",
    "df['Birth_Month'] = df['DOB'].dt.month_name(locale='English') # Find the name of month with the help of month number\n",
    "\n",
    "# For instance if month number indicates 1 then it will give us January, and vice-versa."
   ]
  },
  {
   "cell_type": "code",
   "execution_count": 33,
   "id": "388dcba0",
   "metadata": {},
   "outputs": [
    {
     "data": {
      "text/html": [
       "<div>\n",
       "<style scoped>\n",
       "    .dataframe tbody tr th:only-of-type {\n",
       "        vertical-align: middle;\n",
       "    }\n",
       "\n",
       "    .dataframe tbody tr th {\n",
       "        vertical-align: top;\n",
       "    }\n",
       "\n",
       "    .dataframe thead th {\n",
       "        text-align: right;\n",
       "    }\n",
       "</style>\n",
       "<table border=\"1\" class=\"dataframe\">\n",
       "  <thead>\n",
       "    <tr style=\"text-align: right;\">\n",
       "      <th></th>\n",
       "      <th>Student Name</th>\n",
       "      <th>Department</th>\n",
       "      <th>Physics</th>\n",
       "      <th>Mathematics</th>\n",
       "      <th>Chemistry</th>\n",
       "      <th>AI</th>\n",
       "      <th>Term Work</th>\n",
       "      <th>DOB</th>\n",
       "      <th>Birth_Year</th>\n",
       "      <th>Birth_Month</th>\n",
       "    </tr>\n",
       "  </thead>\n",
       "  <tbody>\n",
       "    <tr>\n",
       "      <th>0</th>\n",
       "      <td>Dorothy Brodt</td>\n",
       "      <td>COMPUTER</td>\n",
       "      <td>28.0</td>\n",
       "      <td>79.000000</td>\n",
       "      <td>84.0</td>\n",
       "      <td>62.000000</td>\n",
       "      <td>2</td>\n",
       "      <td>2003-06-17</td>\n",
       "      <td>2003</td>\n",
       "      <td>June</td>\n",
       "    </tr>\n",
       "    <tr>\n",
       "      <th>1</th>\n",
       "      <td>James Williams</td>\n",
       "      <td>MECHANICAL</td>\n",
       "      <td>46.0</td>\n",
       "      <td>79.000000</td>\n",
       "      <td>31.0</td>\n",
       "      <td>85.000000</td>\n",
       "      <td>1</td>\n",
       "      <td>2003-12-21</td>\n",
       "      <td>2003</td>\n",
       "      <td>December</td>\n",
       "    </tr>\n",
       "    <tr>\n",
       "      <th>2</th>\n",
       "      <td>Lynn Emerson</td>\n",
       "      <td>COMPUTER</td>\n",
       "      <td>58.4</td>\n",
       "      <td>62.000000</td>\n",
       "      <td>74.9</td>\n",
       "      <td>3.200000</td>\n",
       "      <td>6</td>\n",
       "      <td>2002-09-21</td>\n",
       "      <td>2002</td>\n",
       "      <td>September</td>\n",
       "    </tr>\n",
       "    <tr>\n",
       "      <th>3</th>\n",
       "      <td>Aaron Pelosi</td>\n",
       "      <td>ENTC</td>\n",
       "      <td>48.0</td>\n",
       "      <td>90.000000</td>\n",
       "      <td>61.2</td>\n",
       "      <td>29.000000</td>\n",
       "      <td>10</td>\n",
       "      <td>2001-04-27</td>\n",
       "      <td>2001</td>\n",
       "      <td>April</td>\n",
       "    </tr>\n",
       "    <tr>\n",
       "      <th>6</th>\n",
       "      <td>Margaret Stafford</td>\n",
       "      <td>ENTC</td>\n",
       "      <td>49.0</td>\n",
       "      <td>10.000000</td>\n",
       "      <td>55.0</td>\n",
       "      <td>80.000000</td>\n",
       "      <td>4</td>\n",
       "      <td>2003-03-29</td>\n",
       "      <td>2003</td>\n",
       "      <td>March</td>\n",
       "    </tr>\n",
       "    <tr>\n",
       "      <th>...</th>\n",
       "      <td>...</td>\n",
       "      <td>...</td>\n",
       "      <td>...</td>\n",
       "      <td>...</td>\n",
       "      <td>...</td>\n",
       "      <td>...</td>\n",
       "      <td>...</td>\n",
       "      <td>...</td>\n",
       "      <td>...</td>\n",
       "      <td>...</td>\n",
       "    </tr>\n",
       "    <tr>\n",
       "      <th>604</th>\n",
       "      <td>Ryan Hickman</td>\n",
       "      <td>ENTC</td>\n",
       "      <td>45.0</td>\n",
       "      <td>35.000000</td>\n",
       "      <td>56.3</td>\n",
       "      <td>63.000000</td>\n",
       "      <td>7</td>\n",
       "      <td>2001-12-11</td>\n",
       "      <td>2001</td>\n",
       "      <td>December</td>\n",
       "    </tr>\n",
       "    <tr>\n",
       "      <th>607</th>\n",
       "      <td>John Schiffer</td>\n",
       "      <td>COMPUTER</td>\n",
       "      <td>36.0</td>\n",
       "      <td>17.000000</td>\n",
       "      <td>34.0</td>\n",
       "      <td>31.400000</td>\n",
       "      <td>3</td>\n",
       "      <td>2003-07-10</td>\n",
       "      <td>2003</td>\n",
       "      <td>July</td>\n",
       "    </tr>\n",
       "    <tr>\n",
       "      <th>608</th>\n",
       "      <td>Cheryl Mendenhall</td>\n",
       "      <td>MECHANICAL</td>\n",
       "      <td>86.0</td>\n",
       "      <td>54.522119</td>\n",
       "      <td>66.8</td>\n",
       "      <td>55.759546</td>\n",
       "      <td>4</td>\n",
       "      <td>2003-03-10</td>\n",
       "      <td>2003</td>\n",
       "      <td>March</td>\n",
       "    </tr>\n",
       "    <tr>\n",
       "      <th>609</th>\n",
       "      <td>James Wahba</td>\n",
       "      <td>ENTC</td>\n",
       "      <td>68.0</td>\n",
       "      <td>21.000000</td>\n",
       "      <td>63.2</td>\n",
       "      <td>59.000000</td>\n",
       "      <td>1</td>\n",
       "      <td>2002-09-03</td>\n",
       "      <td>2002</td>\n",
       "      <td>September</td>\n",
       "    </tr>\n",
       "    <tr>\n",
       "      <th>610</th>\n",
       "      <td>Jesus Adams</td>\n",
       "      <td>COMPUTER</td>\n",
       "      <td>58.4</td>\n",
       "      <td>79.000000</td>\n",
       "      <td>60.8</td>\n",
       "      <td>85.000000</td>\n",
       "      <td>6</td>\n",
       "      <td>2001-10-20</td>\n",
       "      <td>2001</td>\n",
       "      <td>October</td>\n",
       "    </tr>\n",
       "  </tbody>\n",
       "</table>\n",
       "<p>520 rows × 10 columns</p>\n",
       "</div>"
      ],
      "text/plain": [
       "          Student Name  Department  Physics  Mathematics  Chemistry  \\\n",
       "0        Dorothy Brodt    COMPUTER     28.0    79.000000       84.0   \n",
       "1       James Williams  MECHANICAL     46.0    79.000000       31.0   \n",
       "2         Lynn Emerson    COMPUTER     58.4    62.000000       74.9   \n",
       "3         Aaron Pelosi        ENTC     48.0    90.000000       61.2   \n",
       "6    Margaret Stafford        ENTC     49.0    10.000000       55.0   \n",
       "..                 ...         ...      ...          ...        ...   \n",
       "604       Ryan Hickman        ENTC     45.0    35.000000       56.3   \n",
       "607      John Schiffer    COMPUTER     36.0    17.000000       34.0   \n",
       "608  Cheryl Mendenhall  MECHANICAL     86.0    54.522119       66.8   \n",
       "609        James Wahba        ENTC     68.0    21.000000       63.2   \n",
       "610        Jesus Adams    COMPUTER     58.4    79.000000       60.8   \n",
       "\n",
       "            AI  Term Work        DOB  Birth_Year Birth_Month  \n",
       "0    62.000000          2 2003-06-17        2003        June  \n",
       "1    85.000000          1 2003-12-21        2003    December  \n",
       "2     3.200000          6 2002-09-21        2002   September  \n",
       "3    29.000000         10 2001-04-27        2001       April  \n",
       "6    80.000000          4 2003-03-29        2003       March  \n",
       "..         ...        ...        ...         ...         ...  \n",
       "604  63.000000          7 2001-12-11        2001    December  \n",
       "607  31.400000          3 2003-07-10        2003        July  \n",
       "608  55.759546          4 2003-03-10        2003       March  \n",
       "609  59.000000          1 2002-09-03        2002   September  \n",
       "610  85.000000          6 2001-10-20        2001     October  \n",
       "\n",
       "[520 rows x 10 columns]"
      ]
     },
     "execution_count": 33,
     "metadata": {},
     "output_type": "execute_result"
    }
   ],
   "source": [
    "df"
   ]
  },
  {
   "cell_type": "code",
   "execution_count": 34,
   "id": "b29a4242",
   "metadata": {},
   "outputs": [],
   "source": [
    "# Created by Sahil Naik\n",
    "# Dated: 17/02/2023 20:45:15"
   ]
  }
 ],
 "metadata": {
  "kernelspec": {
   "display_name": "Python 3",
   "language": "python",
   "name": "python3"
  },
  "language_info": {
   "codemirror_mode": {
    "name": "ipython",
    "version": 3
   },
   "file_extension": ".py",
   "mimetype": "text/x-python",
   "name": "python",
   "nbconvert_exporter": "python",
   "pygments_lexer": "ipython3",
   "version": "3.8.8"
  }
 },
 "nbformat": 4,
 "nbformat_minor": 5
}
