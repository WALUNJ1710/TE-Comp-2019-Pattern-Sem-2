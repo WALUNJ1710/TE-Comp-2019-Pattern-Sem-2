{
 "cells": [
  {
   "cell_type": "code",
   "execution_count": 37,
   "id": "34e306da",
   "metadata": {},
   "outputs": [],
   "source": [
    "import nltk\n",
    "from nltk.chat.util import Chat, reflections"
   ]
  },
  {
   "cell_type": "code",
   "execution_count": 38,
   "id": "8faf4294",
   "metadata": {},
   "outputs": [],
   "source": [
    "pairs = [\n",
    "    [\n",
    "        r\"hello\", [\"Hello\"]\n",
    "    ],\n",
    "    \n",
    "    [\n",
    "        r\"how is weather in pune\", [\"Weather is good!\"]\n",
    "    ],\n",
    "    \n",
    "    [\n",
    "        r\"quit\", ['Goodbye']\n",
    "    ]\n",
    "]"
   ]
  },
  {
   "cell_type": "code",
   "execution_count": 39,
   "id": "31e6eb9e",
   "metadata": {},
   "outputs": [
    {
     "name": "stdout",
     "output_type": "stream",
     "text": [
      "Greetings! How may I help you?\n",
      ">hello\n",
      "Hello\n",
      ">how is weather in pune\n",
      "Weather is good!\n",
      ">quit\n",
      "Goodbye\n"
     ]
    }
   ],
   "source": [
    "def chat():\n",
    "    print(\"Greetings! How may I help you?\")\n",
    "    chat = Chat(pairs)\n",
    "    chat.converse()\n",
    "    \n",
    "chat()"
   ]
  }
 ],
 "metadata": {
  "kernelspec": {
   "display_name": "Python 3 (ipykernel)",
   "language": "python",
   "name": "python3"
  },
  "language_info": {
   "codemirror_mode": {
    "name": "ipython",
    "version": 3
   },
   "file_extension": ".py",
   "mimetype": "text/x-python",
   "name": "python",
   "nbconvert_exporter": "python",
   "pygments_lexer": "ipython3",
   "version": "3.10.9"
  }
 },
 "nbformat": 4,
 "nbformat_minor": 5
}
