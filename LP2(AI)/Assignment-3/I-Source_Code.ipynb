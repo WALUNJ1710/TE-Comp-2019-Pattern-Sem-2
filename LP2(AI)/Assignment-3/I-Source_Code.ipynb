{
 "cells": [
  {
   "cell_type": "code",
   "execution_count": 3,
   "id": "74d0b0b3",
   "metadata": {},
   "outputs": [
    {
     "name": "stdout",
     "output_type": "stream",
     "text": [
      "Enter size of array: 2\n",
      "Enter value: 65\n",
      "Enter value: -6\n",
      "\n",
      "Unsorted array is: [65, -6]\n",
      "\n",
      "Sorted array is: [-6, 65]\n"
     ]
    }
   ],
   "source": [
    "def selectionSort(array, size):\n",
    "    for ind in range(size):\n",
    "        min_index = ind\n",
    " \n",
    "        for j in range(ind + 1, size):\n",
    "        \n",
    "            # select the minimum element in every iteration\n",
    "            if array[j] < array[min_index]:\n",
    "                min_index = j\n",
    "                \n",
    "         # swapping the elements to sort the array\n",
    "        (array[ind], array[min_index]) = (array[min_index], array[ind])\n",
    "\n",
    "arr_size = int(input(\"Enter size of array: \"))\n",
    "arr = []\n",
    "\n",
    "for i in range(arr_size):\n",
    "    take_user = int(input(\"Enter value: \"))\n",
    "    arr.append(take_user)\n",
    "\n",
    "print(\"\\nUnsorted array is: {}\".format(arr))\n",
    "size = len(arr)\n",
    "selectionSort(arr, size)\n",
    "print(\"\\nSorted array is: {}\".format(arr))"
   ]
  }
 ],
 "metadata": {
  "kernelspec": {
   "display_name": "Python 3 (ipykernel)",
   "language": "python",
   "name": "python3"
  },
  "language_info": {
   "codemirror_mode": {
    "name": "ipython",
    "version": 3
   },
   "file_extension": ".py",
   "mimetype": "text/x-python",
   "name": "python",
   "nbconvert_exporter": "python",
   "pygments_lexer": "ipython3",
   "version": "3.10.9"
  }
 },
 "nbformat": 4,
 "nbformat_minor": 5
}
