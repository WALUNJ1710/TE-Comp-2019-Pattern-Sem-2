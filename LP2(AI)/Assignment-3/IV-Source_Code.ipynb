{
 "cells": [
  {
   "cell_type": "code",
   "execution_count": null,
   "id": "fcec949a",
   "metadata": {},
   "outputs": [],
   "source": [
    "def printJobScheduling(arr, t):\n",
    " \n",
    "    # length of array\n",
    "    n = len(arr)\n",
    " \n",
    "    # Sort all jobs according to\n",
    "    # decreasing order of profit\n",
    "    for i in range(n):\n",
    "        for j in range(n - 1 - i):\n",
    "            if arr[j][2] < arr[j + 1][2]:\n",
    "                arr[j], arr[j + 1] = arr[j + 1], arr[j]\n",
    " \n",
    "    # To keep track of free time slots\n",
    "    result = [False] * t\n",
    " \n",
    "    # To store result (Sequence of jobs)\n",
    "    job = ['-1'] * t\n",
    " \n",
    "    # Iterate through all given jobs\n",
    "    for i in range(len(arr)):\n",
    " \n",
    "        # Find a free slot for this job\n",
    "        # (Note that we start from the\n",
    "        # last possible slot)\n",
    "        for j in range(min(t - 1, arr[i][1] - 1), -1, -1):\n",
    " \n",
    "            # Free slot found\n",
    "            if result[j] is False:\n",
    "                result[j] = True\n",
    "                job[j] = arr[i][0]\n",
    "                break\n",
    " \n",
    "    # print the sequence\n",
    "    print(job)\n",
    " \n",
    " \n",
    "# Driver's Code\n",
    "if __name__ == '__main__':\n",
    "    arr = [['a', 2, 100],  # Job Array\n",
    "              ['b', 1, 19],\n",
    "              ['c', 2, 27],\n",
    "              ['d', 1, 25],\n",
    "              ['e', 3, 15]]\n",
    " \n",
    " \n",
    "    print(\"Following is maximum profit sequence of jobs\")\n",
    " \n",
    "    # Function Call\n",
    "    printJobScheduling(arr, 3)"
   ]
  }
 ],
 "metadata": {
  "kernelspec": {
   "display_name": "Python 3 (ipykernel)",
   "language": "python",
   "name": "python3"
  },
  "language_info": {
   "codemirror_mode": {
    "name": "ipython",
    "version": 3
   },
   "file_extension": ".py",
   "mimetype": "text/x-python",
   "name": "python",
   "nbconvert_exporter": "python",
   "pygments_lexer": "ipython3",
   "version": "3.10.9"
  }
 },
 "nbformat": 4,
 "nbformat_minor": 5
}
